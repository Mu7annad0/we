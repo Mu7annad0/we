{
  "cells": [
    {
      "cell_type": "code",
      "execution_count": 1,
      "metadata": {
        "colab": {
          "base_uri": "https://localhost:8080/"
        },
        "id": "AOvO0znHt-dp",
        "outputId": "ab375f40-c19f-4c34-c12f-b23bd0977c24"
      },
      "outputs": [
        {
          "name": "stdout",
          "output_type": "stream",
          "text": [
            "Mounted at /content/drive\n"
          ]
        }
      ],
      "source": [
        "from google.colab import drive\n",
        "drive.mount('/content/drive')"
      ]
    },
    {
      "cell_type": "code",
      "execution_count": 2,
      "metadata": {
        "colab": {
          "base_uri": "https://localhost:8080/"
        },
        "id": "U3WG4VtNtpx5",
        "outputId": "b7615a86-1945-4b32-f4ab-c314eb7b6d2f"
      },
      "outputs": [
        {
          "name": "stderr",
          "output_type": "stream",
          "text": [
            "[nltk_data] Downloading package punkt to\n",
            "[nltk_data]     /Users/mu7annad.0gmail.com/nltk_data...\n",
            "[nltk_data]   Package punkt is already up-to-date!\n",
            "[nltk_data] Downloading package stopwords to\n",
            "[nltk_data]     /Users/mu7annad.0gmail.com/nltk_data...\n",
            "[nltk_data]   Package stopwords is already up-to-date!\n",
            "[nltk_data] Downloading package punkt_tab to\n",
            "[nltk_data]     /Users/mu7annad.0gmail.com/nltk_data...\n",
            "[nltk_data]   Package punkt_tab is already up-to-date!\n"
          ]
        },
        {
          "data": {
            "text/plain": [
              "True"
            ]
          },
          "execution_count": 2,
          "metadata": {},
          "output_type": "execute_result"
        }
      ],
      "source": [
        "import pandas as pd\n",
        "import re\n",
        "import numpy as np\n",
        "import torch\n",
        "import torch.nn as nn\n",
        "import matplotlib.pyplot as plt\n",
        "import seaborn as sns\n",
        "from sklearn.model_selection import train_test_split\n",
        "from sklearn.metrics import accuracy_score, confusion_matrix, classification_report\n",
        "from torch.utils.data import Dataset, DataLoader\n",
        "from collections import Counter\n",
        "from tqdm import tqdm\n",
        "from sklearn.feature_extraction.text import TfidfVectorizer\n",
        "from sklearn.linear_model import LogisticRegression\n",
        "\n",
        "import nltk\n",
        "from nltk.corpus import stopwords\n",
        "\n",
        "nltk.download('punkt')\n",
        "nltk.download('stopwords')\n",
        "nltk.download('punkt_tab')"
      ]
    },
    {
      "cell_type": "code",
      "execution_count": 3,
      "metadata": {
        "colab": {
          "base_uri": "https://localhost:8080/"
        },
        "id": "7lgRPU9btxg-",
        "outputId": "27142034-d28f-41f1-d1bf-3c538acdd868"
      },
      "outputs": [
        {
          "data": {
            "text/plain": [
              "{'ء',\n",
              " 'ءَ',\n",
              " 'آ',\n",
              " 'آب',\n",
              " 'آذار',\n",
              " 'آض',\n",
              " 'آمينَ',\n",
              " 'آناء',\n",
              " 'آنفا',\n",
              " 'آه',\n",
              " 'آها',\n",
              " 'آهاً',\n",
              " 'آهٍ',\n",
              " 'آهِ',\n",
              " 'آي',\n",
              " 'أ',\n",
              " 'أبدا',\n",
              " 'أبريل',\n",
              " 'أبو',\n",
              " 'أبٌ',\n",
              " 'أجل',\n",
              " 'أجمع',\n",
              " 'أحد',\n",
              " 'أخبر',\n",
              " 'أخذ',\n",
              " 'أخو',\n",
              " 'أخٌ',\n",
              " 'أربع',\n",
              " 'أربعاء',\n",
              " 'أربعة',\n",
              " 'أربعمئة',\n",
              " 'أربعمائة',\n",
              " 'أرى',\n",
              " 'أسكن',\n",
              " 'أصبح',\n",
              " 'أصلا',\n",
              " 'أضحى',\n",
              " 'أطعم',\n",
              " 'أعطى',\n",
              " 'أعلم',\n",
              " 'أغسطس',\n",
              " 'أف',\n",
              " 'أفريل',\n",
              " 'أفعل به',\n",
              " 'أفٍّ',\n",
              " 'أقبل',\n",
              " 'أقل',\n",
              " 'أكتوبر',\n",
              " 'أكثر',\n",
              " 'أل',\n",
              " 'ألا',\n",
              " 'ألف',\n",
              " 'ألفى',\n",
              " 'أم',\n",
              " 'أما',\n",
              " 'أمام',\n",
              " 'أمامك',\n",
              " 'أمامكَ',\n",
              " 'أمد',\n",
              " 'أمس',\n",
              " 'أمسى',\n",
              " 'أمّا',\n",
              " 'أن',\n",
              " 'أنا',\n",
              " 'أنبأ',\n",
              " 'أنت',\n",
              " 'أنتم',\n",
              " 'أنتما',\n",
              " 'أنتن',\n",
              " 'أنتِ',\n",
              " 'أنشأ',\n",
              " 'أنى',\n",
              " 'أنًّ',\n",
              " 'أنّى',\n",
              " 'أهلا',\n",
              " 'أو',\n",
              " 'أوت',\n",
              " 'أوشك',\n",
              " 'أول',\n",
              " 'أولئك',\n",
              " 'أولاء',\n",
              " 'أولالك',\n",
              " 'أوه',\n",
              " 'أوّهْ',\n",
              " 'أى',\n",
              " 'أي',\n",
              " 'أيا',\n",
              " 'أيار',\n",
              " 'أيضا',\n",
              " 'أيلول',\n",
              " 'أين',\n",
              " 'أينما',\n",
              " 'أيها',\n",
              " 'أيّ',\n",
              " 'أيّان',\n",
              " 'أُفٍّ',\n",
              " 'ؤ',\n",
              " 'إحدى',\n",
              " 'إذ',\n",
              " 'إذا',\n",
              " 'إذاً',\n",
              " 'إذما',\n",
              " 'إذن',\n",
              " 'إزاء',\n",
              " 'إلا',\n",
              " 'إلى',\n",
              " 'إليك',\n",
              " 'إليكم',\n",
              " 'إليكما',\n",
              " 'إليكن',\n",
              " 'إليكنّ',\n",
              " 'إليكَ',\n",
              " 'إلَيْكَ',\n",
              " 'إلّا',\n",
              " 'إما',\n",
              " 'إمّا',\n",
              " 'إن',\n",
              " 'إنا',\n",
              " 'إنما',\n",
              " 'إنه',\n",
              " 'إنَّ',\n",
              " 'إى',\n",
              " 'إي',\n",
              " 'إياك',\n",
              " 'إياكم',\n",
              " 'إياكما',\n",
              " 'إياكن',\n",
              " 'إيانا',\n",
              " 'إياه',\n",
              " 'إياها',\n",
              " 'إياهم',\n",
              " 'إياهما',\n",
              " 'إياهن',\n",
              " 'إياي',\n",
              " 'إيه',\n",
              " 'إيهٍ',\n",
              " 'ئ',\n",
              " 'ا',\n",
              " 'ابتدأ',\n",
              " 'اتخذ',\n",
              " 'اثنا',\n",
              " 'اثنان',\n",
              " 'اثني',\n",
              " 'اثنين',\n",
              " 'اخلولق',\n",
              " 'اربعون',\n",
              " 'اربعين',\n",
              " 'ارتدّ',\n",
              " 'استحال',\n",
              " 'الآن',\n",
              " 'الألاء',\n",
              " 'الألى',\n",
              " 'التي',\n",
              " 'الذي',\n",
              " 'الذين',\n",
              " 'اللائي',\n",
              " 'اللاتي',\n",
              " 'اللتان',\n",
              " 'اللتيا',\n",
              " 'اللتين',\n",
              " 'اللذان',\n",
              " 'اللذين',\n",
              " 'اللواتي',\n",
              " 'انبرى',\n",
              " 'انقلب',\n",
              " 'ب',\n",
              " 'بؤسا',\n",
              " 'بئس',\n",
              " 'باء',\n",
              " 'بات',\n",
              " 'بخ',\n",
              " 'بخٍ',\n",
              " 'بس',\n",
              " 'بسّ',\n",
              " 'بضع',\n",
              " 'بطآن',\n",
              " 'بعد',\n",
              " 'بعدا',\n",
              " 'بعض',\n",
              " 'بغتة',\n",
              " 'بك',\n",
              " 'بكم',\n",
              " 'بكما',\n",
              " 'بكن',\n",
              " 'بل',\n",
              " 'بلى',\n",
              " 'بما',\n",
              " 'بماذا',\n",
              " 'بمن',\n",
              " 'بنا',\n",
              " 'به',\n",
              " 'بها',\n",
              " 'بهم',\n",
              " 'بهما',\n",
              " 'بهن',\n",
              " 'بي',\n",
              " 'بيد',\n",
              " 'بين',\n",
              " 'بَسْ',\n",
              " 'بَلْهَ',\n",
              " 'ة',\n",
              " 'ت',\n",
              " 'تاء',\n",
              " 'تارة',\n",
              " 'تاسع',\n",
              " 'تانِ',\n",
              " 'تانِك',\n",
              " 'تبدّل',\n",
              " 'تجاه',\n",
              " 'تحت',\n",
              " 'تحوّل',\n",
              " 'تخذ',\n",
              " 'ترك',\n",
              " 'تسع',\n",
              " 'تسعة',\n",
              " 'تسعمئة',\n",
              " 'تسعمائة',\n",
              " 'تسعون',\n",
              " 'تسعين',\n",
              " 'تشرين',\n",
              " 'تعسا',\n",
              " 'تعلَّم',\n",
              " 'تفعلان',\n",
              " 'تفعلون',\n",
              " 'تفعلين',\n",
              " 'تلقاء',\n",
              " 'تلك',\n",
              " 'تلكم',\n",
              " 'تلكما',\n",
              " 'تموز',\n",
              " 'ته',\n",
              " 'تي',\n",
              " 'تين',\n",
              " 'تينك',\n",
              " 'تَيْنِ',\n",
              " 'تِه',\n",
              " 'تِي',\n",
              " 'ث',\n",
              " 'ثاء',\n",
              " 'ثالث',\n",
              " 'ثامن',\n",
              " 'ثان',\n",
              " 'ثاني',\n",
              " 'ثلاث',\n",
              " 'ثلاثاء',\n",
              " 'ثلاثة',\n",
              " 'ثلاثمئة',\n",
              " 'ثلاثمائة',\n",
              " 'ثلاثون',\n",
              " 'ثلاثين',\n",
              " 'ثم',\n",
              " 'ثمان',\n",
              " 'ثمانمئة',\n",
              " 'ثمانون',\n",
              " 'ثماني',\n",
              " 'ثمانية',\n",
              " 'ثمانين',\n",
              " 'ثمة',\n",
              " 'ثمنمئة',\n",
              " 'ثمَّ',\n",
              " 'ثمّ',\n",
              " 'ثمّة',\n",
              " 'ج',\n",
              " 'جانفي',\n",
              " 'جعل',\n",
              " 'جلل',\n",
              " 'جمعة',\n",
              " 'جميع',\n",
              " 'جنيه',\n",
              " 'جوان',\n",
              " 'جويلية',\n",
              " 'جير',\n",
              " 'جيم',\n",
              " 'ح',\n",
              " 'حاء',\n",
              " 'حادي',\n",
              " 'حار',\n",
              " 'حاشا',\n",
              " 'حاي',\n",
              " 'حبذا',\n",
              " 'حبيب',\n",
              " 'حتى',\n",
              " 'حجا',\n",
              " 'حدَث',\n",
              " 'حرى',\n",
              " 'حزيران',\n",
              " 'حسب',\n",
              " 'حقا',\n",
              " 'حمدا',\n",
              " 'حمو',\n",
              " 'حمٌ',\n",
              " 'حيث',\n",
              " 'حيثما',\n",
              " 'حين',\n",
              " 'حيَّ',\n",
              " 'حَذارِ',\n",
              " 'خ',\n",
              " 'خاء',\n",
              " 'خاصة',\n",
              " 'خال',\n",
              " 'خامس',\n",
              " 'خبَّر',\n",
              " 'خلا',\n",
              " 'خلافا',\n",
              " 'خلف',\n",
              " 'خمس',\n",
              " 'خمسة',\n",
              " 'خمسمئة',\n",
              " 'خمسمائة',\n",
              " 'خمسون',\n",
              " 'خمسين',\n",
              " 'خميس',\n",
              " 'د',\n",
              " 'دال',\n",
              " 'درهم',\n",
              " 'درى',\n",
              " 'دواليك',\n",
              " 'دولار',\n",
              " 'دون',\n",
              " 'دونك',\n",
              " 'ديسمبر',\n",
              " 'دينار',\n",
              " 'ذ',\n",
              " 'ذا',\n",
              " 'ذات',\n",
              " 'ذاك',\n",
              " 'ذال',\n",
              " 'ذان',\n",
              " 'ذانك',\n",
              " 'ذانِ',\n",
              " 'ذلك',\n",
              " 'ذلكم',\n",
              " 'ذلكما',\n",
              " 'ذلكن',\n",
              " 'ذه',\n",
              " 'ذهب',\n",
              " 'ذو',\n",
              " 'ذوا',\n",
              " 'ذواتا',\n",
              " 'ذواتي',\n",
              " 'ذي',\n",
              " 'ذيت',\n",
              " 'ذين',\n",
              " 'ذينك',\n",
              " 'ذَيْنِ',\n",
              " 'ذِه',\n",
              " 'ذِي',\n",
              " 'ر',\n",
              " 'رأى',\n",
              " 'راء',\n",
              " 'رابع',\n",
              " 'راح',\n",
              " 'رجع',\n",
              " 'رزق',\n",
              " 'رويدك',\n",
              " 'ريال',\n",
              " 'ريث',\n",
              " 'رُبَّ',\n",
              " 'ز',\n",
              " 'زاي',\n",
              " 'زعم',\n",
              " 'زود',\n",
              " 'س',\n",
              " 'ساء',\n",
              " 'سابع',\n",
              " 'سادس',\n",
              " 'سبت',\n",
              " 'سبتمبر',\n",
              " 'سبحان',\n",
              " 'سبع',\n",
              " 'سبعة',\n",
              " 'سبعمئة',\n",
              " 'سبعمائة',\n",
              " 'سبعون',\n",
              " 'سبعين',\n",
              " 'ست',\n",
              " 'ستة',\n",
              " 'ستمئة',\n",
              " 'ستمائة',\n",
              " 'ستون',\n",
              " 'ستين',\n",
              " 'سحقا',\n",
              " 'سرا',\n",
              " 'سرعان',\n",
              " 'سقى',\n",
              " 'سمعا',\n",
              " 'سنتيم',\n",
              " 'سوف',\n",
              " 'سوى',\n",
              " 'سين',\n",
              " 'ش',\n",
              " 'شباط',\n",
              " 'شبه',\n",
              " 'شتان',\n",
              " 'شتانَ',\n",
              " 'شرع',\n",
              " 'شمال',\n",
              " 'شيكل',\n",
              " 'شين',\n",
              " 'شَتَّانَ',\n",
              " 'ص',\n",
              " 'صاد',\n",
              " 'صار',\n",
              " 'صباح',\n",
              " 'صبر',\n",
              " 'صبرا',\n",
              " 'صدقا',\n",
              " 'صراحة',\n",
              " 'صهٍ',\n",
              " 'صهْ',\n",
              " 'ض',\n",
              " 'ضاد',\n",
              " 'ضحوة',\n",
              " 'ط',\n",
              " 'طاء',\n",
              " 'طاق',\n",
              " 'طالما',\n",
              " 'طرا',\n",
              " 'طفق',\n",
              " 'طَق',\n",
              " 'ظ',\n",
              " 'ظاء',\n",
              " 'ظلّ',\n",
              " 'ظنَّ',\n",
              " 'ع',\n",
              " 'عاد',\n",
              " 'عاشر',\n",
              " 'عامة',\n",
              " 'عجبا',\n",
              " 'عدا',\n",
              " 'عدَّ',\n",
              " 'عسى',\n",
              " 'عشر',\n",
              " 'عشرة',\n",
              " 'عشرون',\n",
              " 'عشرين',\n",
              " 'عل',\n",
              " 'علق',\n",
              " 'علم',\n",
              " 'على',\n",
              " 'عليك',\n",
              " 'عليه',\n",
              " 'علًّ',\n",
              " 'عما',\n",
              " 'عن',\n",
              " 'عند',\n",
              " 'عوض',\n",
              " 'عيانا',\n",
              " 'عين',\n",
              " 'عَدَسْ',\n",
              " 'غ',\n",
              " 'غادر',\n",
              " 'غالبا',\n",
              " 'غدا',\n",
              " 'غداة',\n",
              " 'غير',\n",
              " 'غين',\n",
              " 'ف',\n",
              " 'فإذا',\n",
              " 'فإن',\n",
              " 'فاء',\n",
              " 'فبراير',\n",
              " 'فرادى',\n",
              " 'فضلا',\n",
              " 'فلا',\n",
              " 'فلان',\n",
              " 'فلس',\n",
              " 'فمن',\n",
              " 'فو',\n",
              " 'فوق',\n",
              " 'في',\n",
              " 'فيفري',\n",
              " 'فيم',\n",
              " 'فيما',\n",
              " 'فيه',\n",
              " 'فيها',\n",
              " 'ق',\n",
              " 'قاطبة',\n",
              " 'قاف',\n",
              " 'قام',\n",
              " 'قبل',\n",
              " 'قد',\n",
              " 'قرش',\n",
              " 'قطّ',\n",
              " 'قلما',\n",
              " 'ك',\n",
              " 'كأن',\n",
              " 'كأنما',\n",
              " 'كأنّ',\n",
              " 'كأي',\n",
              " 'كأين',\n",
              " 'كأيّ',\n",
              " 'كأيّن',\n",
              " 'كاد',\n",
              " 'كاف',\n",
              " 'كان',\n",
              " 'كانون',\n",
              " 'كثيرا',\n",
              " 'كذا',\n",
              " 'كذلك',\n",
              " 'كرب',\n",
              " 'كسا',\n",
              " 'كل',\n",
              " 'كلا',\n",
              " 'كلاهما',\n",
              " 'كلتا',\n",
              " 'كلما',\n",
              " 'كليكما',\n",
              " 'كليهما',\n",
              " 'كلَّا',\n",
              " 'كلّما',\n",
              " 'كم',\n",
              " 'كما',\n",
              " 'كن',\n",
              " 'كى',\n",
              " 'كي',\n",
              " 'كيت',\n",
              " 'كيف',\n",
              " 'كيفما',\n",
              " 'كِخ',\n",
              " 'ل',\n",
              " 'لئن',\n",
              " 'لا',\n",
              " 'لا سيما',\n",
              " 'لات',\n",
              " 'لاسيما',\n",
              " 'لام',\n",
              " 'لبيك',\n",
              " 'لدن',\n",
              " 'لدى',\n",
              " 'لست',\n",
              " 'لستم',\n",
              " 'لستما',\n",
              " 'لستن',\n",
              " 'لسن',\n",
              " 'لسنا',\n",
              " 'لعل',\n",
              " 'لعلَّ',\n",
              " 'لعمر',\n",
              " 'لك',\n",
              " 'لكم',\n",
              " 'لكما',\n",
              " 'لكن',\n",
              " 'لكنما',\n",
              " 'لكنَّ',\n",
              " 'لكي',\n",
              " 'لكيلا',\n",
              " 'لم',\n",
              " 'لما',\n",
              " 'لمّا',\n",
              " 'لن',\n",
              " 'لنا',\n",
              " 'له',\n",
              " 'لها',\n",
              " 'لهم',\n",
              " 'لهما',\n",
              " 'لهن',\n",
              " 'لو',\n",
              " 'لولا',\n",
              " 'لوما',\n",
              " 'لي',\n",
              " 'ليت',\n",
              " 'ليرة',\n",
              " 'ليس',\n",
              " 'ليسا',\n",
              " 'ليست',\n",
              " 'ليستا',\n",
              " 'ليسوا',\n",
              " 'م',\n",
              " 'مئة',\n",
              " 'مئتان',\n",
              " 'ما',\n",
              " 'ما أفعله',\n",
              " 'ما انفك',\n",
              " 'ما برح',\n",
              " 'مائة',\n",
              " 'مادام',\n",
              " 'ماذا',\n",
              " 'مارس',\n",
              " 'مازال',\n",
              " 'مافتئ',\n",
              " 'ماي',\n",
              " 'مايو',\n",
              " 'متى',\n",
              " 'مثل',\n",
              " 'مذ',\n",
              " 'مرّة',\n",
              " 'مساء',\n",
              " 'مع',\n",
              " 'معاذ',\n",
              " 'مكانكم',\n",
              " 'مكانكما',\n",
              " 'مكانكنّ',\n",
              " 'مكانَك',\n",
              " 'مليم',\n",
              " 'مما',\n",
              " 'ممن',\n",
              " 'من',\n",
              " 'منذ',\n",
              " 'منه',\n",
              " 'منها',\n",
              " 'مه',\n",
              " 'مهما',\n",
              " 'ميم',\n",
              " 'ن',\n",
              " 'نا',\n",
              " 'نبَّا',\n",
              " 'نحن',\n",
              " 'نحو',\n",
              " 'نعم',\n",
              " 'نفس',\n",
              " 'نوفمبر',\n",
              " 'نون',\n",
              " 'نيسان',\n",
              " 'نيف',\n",
              " 'نَخْ',\n",
              " 'نَّ',\n",
              " 'ه',\n",
              " 'هؤلاء',\n",
              " 'ها',\n",
              " 'هاء',\n",
              " 'هاتان',\n",
              " 'هاته',\n",
              " 'هاتي',\n",
              " 'هاتين',\n",
              " 'هاك',\n",
              " 'هاكَ',\n",
              " 'هاهنا',\n",
              " 'هبّ',\n",
              " 'هذا',\n",
              " 'هذان',\n",
              " 'هذه',\n",
              " 'هذي',\n",
              " 'هذين',\n",
              " 'هكذا',\n",
              " 'هل',\n",
              " 'هلا',\n",
              " 'هللة',\n",
              " 'هلم',\n",
              " 'هلّا',\n",
              " 'هم',\n",
              " 'هما',\n",
              " 'همزة',\n",
              " 'هن',\n",
              " 'هنا',\n",
              " 'هناك',\n",
              " 'هنالك',\n",
              " 'هو',\n",
              " 'هي',\n",
              " 'هيا',\n",
              " 'هيت',\n",
              " 'هيهات',\n",
              " 'هيّا',\n",
              " 'هَؤلاء',\n",
              " 'هَاتانِ',\n",
              " 'هَاتَيْنِ',\n",
              " 'هَاتِه',\n",
              " 'هَاتِي',\n",
              " 'هَجْ',\n",
              " 'هَذا',\n",
              " 'هَذانِ',\n",
              " 'هَذَيْنِ',\n",
              " 'هَذِه',\n",
              " 'هَذِي',\n",
              " 'هَيْهات',\n",
              " 'و',\n",
              " 'وإذ',\n",
              " 'وإذا',\n",
              " 'وإن',\n",
              " 'وا',\n",
              " 'واحد',\n",
              " 'والذي',\n",
              " 'والذين',\n",
              " 'واهاً',\n",
              " 'واو',\n",
              " 'وجد',\n",
              " 'وراءَك',\n",
              " 'ورد',\n",
              " 'ولا',\n",
              " 'ولكن',\n",
              " 'ولو',\n",
              " 'وما',\n",
              " 'ومن',\n",
              " 'وهب',\n",
              " 'وهو',\n",
              " 'وَيْ',\n",
              " 'وُشْكَانَ',\n",
              " 'ى',\n",
              " 'ي',\n",
              " 'يا',\n",
              " 'ياء',\n",
              " 'يفعلان',\n",
              " 'يفعلون',\n",
              " 'يمين',\n",
              " 'ين',\n",
              " 'يناير',\n",
              " 'يوان',\n",
              " 'يورو',\n",
              " 'يوليو',\n",
              " 'يونيو',\n",
              " 'ّأيّان'}"
            ]
          },
          "execution_count": 3,
          "metadata": {},
          "output_type": "execute_result"
        }
      ],
      "source": [
        "arabic_stopwords = set(stopwords.words('arabic'))\n",
        "arabic_stopwords"
      ]
    },
    {
      "cell_type": "code",
      "execution_count": 4,
      "metadata": {
        "id": "5hEZBuLwtyAs"
      },
      "outputs": [],
      "source": [
        "ar_stopwords = set(stopwords.words('arabic'))\n",
        "\n",
        "def process_text(text):\n",
        "    stemmer = nltk.ISRIStemmer()\n",
        "    word_list = nltk.word_tokenize(text)\n",
        "    # remove Arabic stopwords\n",
        "    word_list = [w for w in word_list if w not in ar_stopwords]\n",
        "    # remove digits\n",
        "    word_list = [w for w in word_list if not w.isdigit()]\n",
        "    # stemming\n",
        "    word_list = [stemmer.stem(w) for w in word_list]\n",
        "    return ' '.join(word_list)\n",
        "\n",
        "def clean_text(text):\n",
        "    search = [\"أ\", \"إ\", \"آ\", \"ة\", \"_\", \"-\", \"/\", \".\", \"،\", \" و \", \" يا \", '\"', \"ـ\", \"'\", \"ى\",\n",
        "              \"\\\\\", '\\n', '\\t', '\"', '?', '؟', '!']\n",
        "    replace = [\"ا\", \"ا\", \"ا\", \"ه\", \" \", \" \", \"\", \"\", \"\", \" و\", \" يا\",\n",
        "               \"\", \"\", \"\", \"ي\", \"\", ' ', ' ', ' ', ' ? ', ' ؟ ', ' ! ']\n",
        "\n",
        "    # remove tashkeel\n",
        "    tashkeel = re.compile(r'[\\u0617-\\u061A\\u064B-\\u0652]')\n",
        "    text = re.sub(tashkeel, \"\", text)\n",
        "\n",
        "    # normalize elongation\n",
        "    longation = re.compile(r'(.)\\1+')\n",
        "    subst = r\"\\1\\1\"\n",
        "    text = re.sub(longation, subst, text)\n",
        "\n",
        "    text = re.sub(r\"[^\\w\\s]\", '', text)             # remove punctuation\n",
        "    text = re.sub(r\"[a-zA-Z]\", '', text)            # remove English letters\n",
        "    text = re.sub(r\"\\d+\", ' ', text)                # remove digits\n",
        "    text = re.sub(r\"\\n+\", ' ', text)                # remove newlines\n",
        "    text = re.sub(r\"\\t+\", ' ', text)                # remove tabs\n",
        "    text = re.sub(r\"\\r+\", ' ', text)                # remove carriage returns\n",
        "    text = re.sub(r\"\\s+\", ' ', text)                # normalize spaces\n",
        "\n",
        "    # remove specific character repetitions\n",
        "    text = text.replace('وو', 'و')\n",
        "    text = text.replace('يي', 'ي')\n",
        "    text = text.replace('اا', 'ا')\n",
        "\n",
        "    for i in range(len(search)):\n",
        "        text = text.replace(search[i], replace[i])\n",
        "\n",
        "    text = text.strip()\n",
        "\n",
        "    return process_text(text)\n",
        "\n",
        "def load_file(path):\n",
        "    df = pd.read_csv(path, sep=\"\\t\", header=None)\n",
        "    df.columns = [\"label\", \"text\"]\n",
        "    df['label'] = df['label'].map({'pos': 1, 'neg': 0})\n",
        "    df['text'] = df['text'].astype(str).apply(clean_text)\n",
        "    return df"
      ]
    },
    {
      "cell_type": "code",
      "execution_count": 5,
      "metadata": {
        "id": "z-n6FGoOt0Ia"
      },
      "outputs": [],
      "source": [
        "# Load and preprocess\n",
        "train_pos = load_file(\"/content/drive/MyDrive/we_sentiment/Sentiment Analysis/train_Arabic_tweets_positive_20190413.tsv\")\n",
        "train_neg = load_file(\"/content/drive/MyDrive/we_sentiment/Sentiment Analysis/train_Arabic_tweets_negative_20190413.tsv\")\n",
        "test_pos = load_file(\"/content/drive/MyDrive/we_sentiment/Sentiment Analysis/test_Arabic_tweets_positive_20190413.tsv\")\n",
        "test_neg = load_file(\"/content/drive/MyDrive/we_sentiment/Sentiment Analysis/test_Arabic_tweets_negative_20190413.tsv\")\n",
        "\n",
        "# Combine within each split\n",
        "train_df = pd.concat([train_pos, train_neg], ignore_index=True).sample(frac=1, random_state=42).reset_index(drop=True)\n",
        "test_df = pd.concat([test_pos, test_neg], ignore_index=True).sample(frac=1, random_state=42).reset_index(drop=True)"
      ]
    },
    {
      "cell_type": "code",
      "execution_count": 6,
      "metadata": {
        "colab": {
          "base_uri": "https://localhost:8080/",
          "height": 514
        },
        "id": "o70QYTBNt2ll",
        "outputId": "b1612760-81ff-43af-ecaa-8be0e9fa9921"
      },
      "outputs": [
        {
          "name": "stderr",
          "output_type": "stream",
          "text": [
            "<ipython-input-6-a8e18f09e321>:6: FutureWarning: \n",
            "\n",
            "Passing `palette` without assigning `hue` is deprecated and will be removed in v0.14.0. Assign the `x` variable to `hue` and set `legend=False` for the same effect.\n",
            "\n",
            "  sns.countplot(data=train_df, x='label', palette='Set1')\n"
          ]
        },
        {
          "data": {
            "image/png": "[encoded data removed]",
            "text/plain": [
              "<Figure size 600x400 with 1 Axes>"
            ]
          },
          "metadata": {},
          "output_type": "display_data"
        }
      ],
      "source": [
        "import seaborn as sns\n",
        "import matplotlib.pyplot as plt\n",
        "\n",
        "# Plot class distribution for training data\n",
        "plt.figure(figsize=(6, 4))\n",
        "sns.countplot(data=train_df, x='label', palette='Set1')\n",
        "plt.title('Class Distribution in Training Set')\n",
        "plt.xlabel('Label (0 = Negative, 1 = Positive)')\n",
        "plt.ylabel('Count')\n",
        "plt.xticks([0, 1], ['Negative', 'Positive'])\n",
        "plt.grid(axis='y', linestyle='--', alpha=0.7)\n",
        "plt.tight_layout()\n",
        "plt.show()"
      ]
    },
    {
      "cell_type": "code",
      "execution_count": null,
      "metadata": {
        "colab": {
          "base_uri": "https://localhost:8080/",
          "height": 514
        },
        "id": "kifLy2LCuhWR",
        "outputId": "9d2d20f6-f573-4d8a-815c-fb7d184cb15a"
      },
      "outputs": [
        {
          "name": "stderr",
          "output_type": "stream",
          "text": [
            "<ipython-input-7-6637dd1e6cb2>:2: FutureWarning: \n",
            "\n",
            "Passing `palette` without assigning `hue` is deprecated and will be removed in v0.14.0. Assign the `x` variable to `hue` and set `legend=False` for the same effect.\n",
            "\n",
            "  sns.countplot(data=test_df, x='label', palette='Set1')\n"
          ]
        },
        {
          "data": {
            "image/png": "[encoded data removed]",
            "text/plain": [
              "<Figure size 600x400 with 1 Axes>"
            ]
          },
          "metadata": {},
          "output_type": "display_data"
        }
      ],
      "source": [
        "plt.figure(figsize=(6, 4))\n",
        "sns.countplot(data=test_df, x='label', palette='Set1')\n",
        "plt.title('Class Distribution in Test Set')\n",
        "plt.xlabel('Label (0 = Negative, 1 = Positive)')\n",
        "plt.ylabel('Count')\n",
        "plt.xticks([0, 1], ['Negative', 'Positive'])\n",
        "plt.grid(axis='y', linestyle='--', alpha=0.7)\n",
        "plt.tight_layout()\n",
        "plt.show()"
      ]
    },
    {
      "cell_type": "code",
      "execution_count": 8,
      "metadata": {
        "id": "jSU01DDFujct"
      },
      "outputs": [],
      "source": [
        "train, valid = train_test_split(train_df, test_size=0.15, random_state=42, stratify=train_df['label'])"
      ]
    },
    {
      "cell_type": "code",
      "execution_count": null,
      "metadata": {
        "colab": {
          "base_uri": "https://localhost:8080/"
        },
        "id": "wzk_2kgwuvFz",
        "outputId": "eb8fe22f-2f72-4614-ba87-a797280baf1f"
      },
      "outputs": [
        {
          "name": "stdout",
          "output_type": "stream",
          "text": [
            "Training set: 38483 samples\n",
            "Validation set: 6792 samples\n",
            "Test set: 11520 samples\n",
            "Building vocabulary...\n",
            "Total unique words before filtering: 14660\n",
            "Vocabulary size after filtering: 8849\n",
            "Vocabulary size: 8849\n"
          ]
        }
      ],
      "source": [
        "# Check data sizes\n",
        "print(f\"Training set: {len(train)} samples\")\n",
        "print(f\"Validation set: {len(valid)} samples\")\n",
        "print(f\"Test set: {len(test_df)} samples\")\n",
        "\n",
        "# Build vocabulary from the training data\n",
        "def build_vocab(texts, max_vocab_size=10000, min_freq=2):\n",
        "    word_counts = Counter()\n",
        "    # Count all words in the corpus\n",
        "    print(\"Building vocabulary...\")\n",
        "    for text in texts:\n",
        "        for word in text.split():\n",
        "            word_counts[word] += 1\n",
        "\n",
        "    print(f\"Total unique words before filtering: {len(word_counts)}\")\n",
        "\n",
        "    # Filter words by frequency and cap by max_vocab_size\n",
        "    vocab = {'<PAD>': 0, '<UNK>': 1}  # Special tokens\n",
        "    vocab_idx = 2\n",
        "\n",
        "    for word, count in word_counts.most_common(max_vocab_size - 2):  # -2 for special tokens\n",
        "        if count >= min_freq:\n",
        "            vocab[word] = vocab_idx\n",
        "            vocab_idx += 1\n",
        "\n",
        "    print(f\"Vocabulary size after filtering: {len(vocab)}\")\n",
        "    return vocab\n",
        "\n",
        "# Create vocabulary from training data\n",
        "vocab = build_vocab(train['text'], max_vocab_size=20000, min_freq=2)\n",
        "print(f\"Vocabulary size: {len(vocab)}\")"
      ]
    },
    {
      "cell_type": "code",
      "execution_count": null,
      "metadata": {},
      "outputs": [],
      "source": [
        "# Convert text to sequences of indices\n",
        "def text_to_sequence(text, vocab, max_len=100):\n",
        "    words = text.split()\n",
        "    # Truncate if longer than max_len\n",
        "    if len(words) > max_len:\n",
        "        words = words[:max_len]\n",
        "\n",
        "    indices = []\n",
        "    for word in words:\n",
        "        if word in vocab:\n",
        "            indices.append(vocab[word])\n",
        "        else:\n",
        "            indices.append(vocab['<UNK>'])\n",
        "\n",
        "    padding_length = max_len - len(indices)\n",
        "    if padding_length > 0:\n",
        "        indices = indices + [vocab['<PAD>']] * padding_length\n",
        "\n",
        "    return indices"
      ]
    },
    {
      "cell_type": "code",
      "execution_count": 3,
      "metadata": {},
      "outputs": [],
      "source": [
        "class ArabicSentimentDataset(Dataset):\n",
        "    def __init__(self, texts, labels, vocab, max_len=100):\n",
        "        self.texts = texts\n",
        "        self.labels = labels\n",
        "        self.vocab = vocab\n",
        "        self.max_len = max_len\n",
        "\n",
        "        print(\"Pre-processing dataset...\")\n",
        "        self.sequences = []\n",
        "        for idx in range(len(self.texts)):\n",
        "            text = self.texts.iloc[idx]\n",
        "            sequence = text_to_sequence(text, self.vocab, self.max_len)\n",
        "            self.sequences.append(sequence)\n",
        "        print(f\"Dataset preprocessing complete. {len(self.sequences)} sequences created.\")\n",
        "\n",
        "    def __len__(self):\n",
        "        return len(self.texts)\n",
        "\n",
        "    def __getitem__(self, idx):\n",
        "        label = self.labels.iloc[idx]\n",
        "        sequence = self.sequences[idx]\n",
        "\n",
        "        return {\n",
        "            'text': torch.tensor(sequence, dtype=torch.long),\n",
        "            'label': torch.tensor(label, dtype=torch.float)\n",
        "        }"
      ]
    },
    {
      "cell_type": "code",
      "execution_count": null,
      "metadata": {
        "colab": {
          "base_uri": "https://localhost:8080/"
        },
        "id": "eKq1VrCOuZF3",
        "outputId": "152ea969-32b0-492b-efb8-6457a40d3082"
      },
      "outputs": [],
      "source": [
        "# Set hyperparameters\n",
        "EMBEDDING_DIM = 64\n",
        "HIDDEN_DIM = 128\n",
        "N_LAYERS = 1\n",
        "BIDIRECTIONAL = True\n",
        "DROPOUT = 0.6\n",
        "MAX_LENGTH = 75\n",
        "BATCH_SIZE = 128\n",
        "LEARNING_RATE = 5e-4\n",
        "EPOCHS = 25\n",
        "\n",
        "# Create DataLoaders\n",
        "train_dataset = ArabicSentimentDataset(train['text'], train['label'], vocab, MAX_LENGTH)\n",
        "valid_dataset = ArabicSentimentDataset(valid['text'], valid['label'], vocab, MAX_LENGTH)\n",
        "test_dataset = ArabicSentimentDataset(test_df['text'], test_df['label'], vocab, MAX_LENGTH)\n",
        "\n",
        "train_dataloader = DataLoader(train_dataset, batch_size=BATCH_SIZE, shuffle=True)\n",
        "valid_dataloader = DataLoader(valid_dataset, batch_size=BATCH_SIZE)\n",
        "test_dataloader = DataLoader(test_dataset, batch_size=BATCH_SIZE)"
      ]
    },
    {
      "cell_type": "code",
      "execution_count": null,
      "metadata": {
        "colab": {
          "base_uri": "https://localhost:8080/"
        },
        "id": "Rigo1BXxug2-",
        "outputId": "2cd4cd13-a85c-4410-a8dd-e4e7af8f1f91"
      },
      "outputs": [
        {
          "name": "stdout",
          "output_type": "stream",
          "text": [
            "Using device: cuda\n",
            "Vocabulary size: 8849\n",
            "Maximum index in vocabulary: 8848\n",
            "PAD idx: 0, UNK idx: 1\n"
          ]
        },
        {
          "name": "stderr",
          "output_type": "stream",
          "text": [
            "/usr/local/lib/python3.11/dist-packages/torch/optim/lr_scheduler.py:62: UserWarning: The verbose parameter is deprecated. Please use get_last_lr() to access the learning rate.\n",
            "  warnings.warn(\n"
          ]
        }
      ],
      "source": [
        "# Define LSTM model\n",
        "class LSTMSentimentClassifier(nn.Module):\n",
        "    def __init__(self, vocab_size, embedding_dim, no_layers, hidden_dim, output_dim,\n",
        "                 dropout, pad_idx):\n",
        "        super().__init__()\n",
        "\n",
        "        self.embedding = nn.Embedding(vocab_size, embedding_dim, padding_idx=pad_idx)\n",
        "        self.emb_dropout = nn.Dropout(0.4)\n",
        "\n",
        "        self.lstm = nn.LSTM(embedding_dim, hidden_dim,\n",
        "                            num_layers=no_layers,\n",
        "                           bidirectional=True,\n",
        "                           dropout=dropout,\n",
        "                           batch_first=True)\n",
        "\n",
        "        self.classifier = nn.Sequential(\n",
        "            nn.Linear(hidden_dim*2, 64),\n",
        "            nn.ReLU(),\n",
        "            nn.Dropout(dropout),\n",
        "            nn.Linear(64, output_dim)\n",
        "        )\n",
        "\n",
        "    def forward(self, text):\n",
        "        embedded = self.emb_dropout(self.embedding(text))\n",
        "        _, (hidden, _) = self.lstm(embedded)\n",
        "        hidden = torch.cat((hidden[-2], hidden[-1]), dim=1)\n",
        "        return self.classifier(hidden)\n",
        "\n",
        "\n",
        "# Set hyperparameters\n",
        "EMBEDDING_DIM = 64\n",
        "HIDDEN_DIM = 128\n",
        "N_LAYERS = 3\n",
        "BIDIRECTIONAL = True\n",
        "DROPOUT = 0.5\n",
        "LEARNING_RATE = 5e-5\n",
        "EPOCHS = 100\n",
        "\n",
        "# Initialize model\n",
        "device = torch.device('mps' if torch.backends.mps.is_available() else 'cuda' if torch.cuda.is_available() else 'cpu')\n",
        "print(f\"Using device: {device}\")\n",
        "\n",
        "# Print vocabulary stats to debug\n",
        "print(f\"Vocabulary size: {len(vocab)}\")\n",
        "print(f\"Maximum index in vocabulary: {max(vocab.values())}\")\n",
        "print(f\"PAD idx: {vocab['<PAD>']}, UNK idx: {vocab['<UNK>']}\")\n",
        "\n",
        "model = LSTMSentimentClassifier(\n",
        "    vocab_size=len(vocab),\n",
        "    no_layers=N_LAYERS,\n",
        "    embedding_dim=EMBEDDING_DIM,\n",
        "    hidden_dim=HIDDEN_DIM,\n",
        "    output_dim=1,\n",
        "    dropout=DROPOUT,\n",
        "    pad_idx=vocab['<PAD>']\n",
        ").to(device)\n",
        "\n",
        "# Define loss function and optimizer\n",
        "criterion = nn.BCEWithLogitsLoss()\n",
        "optimizer = optim.AdamW(model.parameters(), lr=LEARNING_RATE, weight_decay=1e-4)\n",
        "scheduler = optim.lr_scheduler.ReduceLROnPlateau(\n",
        "    optimizer,\n",
        "    mode='min',\n",
        "    factor=0.1,\n",
        "    patience=2,\n",
        "    min_lr=1e-6,\n",
        "    verbose=True\n",
        ")"
      ]
    },
    {
      "cell_type": "code",
      "execution_count": null,
      "metadata": {
        "id": "OjT3rHm6vOGt"
      },
      "outputs": [],
      "source": [
        "# Training function\n",
        "def train_model(model, train_dataloader, valid_dataloader, optimizer, criterion, scheduler, epochs):\n",
        "    best_valid_loss = float('inf')\n",
        "    patience = 5\n",
        "    counter = 0\n",
        "\n",
        "    history = {\n",
        "        'train_loss': [],\n",
        "        'valid_loss': [],\n",
        "        'train_acc': [],\n",
        "        'valid_acc': []\n",
        "    }\n",
        "\n",
        "    for epoch in range(epochs):\n",
        "        print(f\"\\nEpoch {epoch+1}/{epochs}\")\n",
        "\n",
        "        current_lr = optimizer.param_groups[0]['lr']\n",
        "        print(f\"Learning Rate: {current_lr:.6f}\")\n",
        "\n",
        "        # Training\n",
        "        model.train()\n",
        "        train_loss = 0\n",
        "        train_correct = 0\n",
        "        train_total = 0\n",
        "\n",
        "        for batch in tqdm(train_dataloader, desc=\"Training\"):\n",
        "            text = batch['text'].to(device)\n",
        "            labels = batch['label'].float().to(device)  # Ensure labels are float for BCE\n",
        "\n",
        "            optimizer.zero_grad()\n",
        "            predictions = model(text).squeeze(1)\n",
        "            loss = criterion(predictions, labels)\n",
        "            loss.backward()\n",
        "\n",
        "            # Gradient clipping\n",
        "            torch.nn.utils.clip_grad_norm_(model.parameters(), max_norm=0.5)\n",
        "            optimizer.step()\n",
        "\n",
        "            train_loss += loss.item()\n",
        "            predicted = torch.round(torch.sigmoid(predictions))\n",
        "            train_correct += (predicted == labels).sum().item()\n",
        "            train_total += labels.size(0)\n",
        "\n",
        "        train_loss /= len(train_dataloader)\n",
        "        train_acc = train_correct / train_total\n",
        "\n",
        "        # Validation\n",
        "        model.eval()\n",
        "        valid_loss = 0\n",
        "        valid_correct = 0\n",
        "        valid_total = 0\n",
        "\n",
        "        with torch.no_grad():\n",
        "            for batch in tqdm(valid_dataloader, desc=\"Validation\"):\n",
        "                text = batch['text'].to(device)\n",
        "                labels = batch['label'].float().to(device)\n",
        "\n",
        "                predictions = model(text).squeeze(1)\n",
        "                loss = criterion(predictions, labels)\n",
        "\n",
        "                valid_loss += loss.item()\n",
        "                predicted = torch.round(torch.sigmoid(predictions))\n",
        "                valid_correct += (predicted == labels).sum().item()\n",
        "                valid_total += labels.size(0)\n",
        "\n",
        "        valid_loss /= len(valid_dataloader)\n",
        "        valid_acc = valid_correct / valid_total\n",
        "\n",
        "        # Scheduler step\n",
        "        scheduler.step(valid_loss)\n",
        "\n",
        "        # Save history\n",
        "        history['train_loss'].append(train_loss)\n",
        "        history['valid_loss'].append(valid_loss)\n",
        "        history['train_acc'].append(train_acc)\n",
        "        history['valid_acc'].append(valid_acc)\n",
        "\n",
        "        # Print epoch results\n",
        "        print(f\"Train Loss: {train_loss:.4f} | Train Acc: {train_acc:.4f}\")\n",
        "        print(f\"Valid Loss: {valid_loss:.4f} | Valid Acc: {valid_acc:.4f}\")\n",
        "\n",
        "        # Save best model\n",
        "        if valid_loss < best_valid_loss:\n",
        "            best_valid_loss = valid_loss\n",
        "            counter = 0\n",
        "            torch.save(model.state_dict(), 'best_arabic_sentiment_model.pt')\n",
        "            print(\"✔ Saved best model\")\n",
        "        else:\n",
        "            counter += 1\n",
        "            print(f\"No improvement for {counter} epochs\")\n",
        "\n",
        "        if counter >= patience:\n",
        "            print(f\"Early stopping after {epoch+1} epochs\")\n",
        "            break\n",
        "\n",
        "    return history\n",
        "\n",
        "\n",
        "# Evaluate on test set\n",
        "def evaluate(model, test_dataloader, criterion):\n",
        "    model.eval()\n",
        "    test_loss = 0\n",
        "    test_correct = 0\n",
        "    test_total = 0\n",
        "    all_predictions = []\n",
        "    all_labels = []\n",
        "\n",
        "    with torch.no_grad():\n",
        "        for batch in tqdm(test_dataloader, desc=\"Testing\"):\n",
        "            # Get data\n",
        "            text = batch['text'].to(device)\n",
        "            labels = batch['label'].to(device)\n",
        "\n",
        "            # Forward pass\n",
        "            predictions = model(text).squeeze(1)\n",
        "            loss = criterion(predictions, labels)\n",
        "\n",
        "            # Calculate accuracy\n",
        "            test_loss += loss.item()\n",
        "            predicted = torch.round(torch.sigmoid(predictions))\n",
        "            test_correct += (predicted == labels).sum().item()\n",
        "            test_total += labels.size(0)\n",
        "\n",
        "            # Save predictions and labels for confusion matrix\n",
        "            all_predictions.extend(predicted.cpu().numpy())\n",
        "            all_labels.extend(labels.cpu().numpy())\n",
        "\n",
        "    test_loss = test_loss / len(test_dataloader)\n",
        "    test_acc = test_correct / test_total\n",
        "\n",
        "    print(f\"Test Loss: {test_loss:.4f}, Test Acc: {test_acc:.4f}\")\n",
        "\n",
        "    return all_predictions, all_labels"
      ]
    },
    {
      "cell_type": "code",
      "execution_count": null,
      "metadata": {
        "colab": {
          "base_uri": "https://localhost:8080/"
        },
        "id": "Y3eAthEevP6V",
        "outputId": "b3991cfd-946d-46c9-ffd9-398d5dc9584e"
      },
      "outputs": [
        {
          "name": "stdout",
          "output_type": "stream",
          "text": [
            "\n",
            "Epoch 1/100\n",
            "Learning Rate: 0.000050\n"
          ]
        },
        {
          "name": "stderr",
          "output_type": "stream",
          "text": [
            "Training: 100%|██████████| 301/301 [00:10<00:00, 29.03it/s]\n",
            "Validation: 100%|██████████| 54/54 [00:00<00:00, 64.05it/s]\n"
          ]
        },
        {
          "name": "stdout",
          "output_type": "stream",
          "text": [
            "Train Loss: 0.6927 | Train Acc: 0.5170\n",
            "Valid Loss: 0.6901 | Valid Acc: 0.5817\n",
            "✔ Saved best model\n",
            "\n",
            "Epoch 2/100\n",
            "Learning Rate: 0.000050\n"
          ]
        },
        {
          "name": "stderr",
          "output_type": "stream",
          "text": [
            "Training: 100%|██████████| 301/301 [00:10<00:00, 28.55it/s]\n",
            "Validation: 100%|██████████| 54/54 [00:00<00:00, 69.83it/s]\n"
          ]
        },
        {
          "name": "stdout",
          "output_type": "stream",
          "text": [
            "Train Loss: 0.6745 | Train Acc: 0.5831\n",
            "Valid Loss: 0.6504 | Valid Acc: 0.6162\n",
            "✔ Saved best model\n",
            "\n",
            "Epoch 3/100\n",
            "Learning Rate: 0.000050\n"
          ]
        },
        {
          "name": "stderr",
          "output_type": "stream",
          "text": [
            "Training: 100%|██████████| 301/301 [00:10<00:00, 27.84it/s]\n",
            "Validation: 100%|██████████| 54/54 [00:00<00:00, 69.68it/s]\n"
          ]
        },
        {
          "name": "stdout",
          "output_type": "stream",
          "text": [
            "Train Loss: 0.6528 | Train Acc: 0.6088\n",
            "Valid Loss: 0.6335 | Valid Acc: 0.6385\n",
            "✔ Saved best model\n",
            "\n",
            "Epoch 4/100\n",
            "Learning Rate: 0.000050\n"
          ]
        },
        {
          "name": "stderr",
          "output_type": "stream",
          "text": [
            "Training: 100%|██████████| 301/301 [00:10<00:00, 28.37it/s]\n",
            "Validation: 100%|██████████| 54/54 [00:00<00:00, 70.73it/s]\n"
          ]
        },
        {
          "name": "stdout",
          "output_type": "stream",
          "text": [
            "Train Loss: 0.6409 | Train Acc: 0.6238\n",
            "Valid Loss: 0.6182 | Valid Acc: 0.6547\n",
            "✔ Saved best model\n",
            "\n",
            "Epoch 5/100\n",
            "Learning Rate: 0.000050\n"
          ]
        },
        {
          "name": "stderr",
          "output_type": "stream",
          "text": [
            "Training: 100%|██████████| 301/301 [00:10<00:00, 28.95it/s]\n",
            "Validation: 100%|██████████| 54/54 [00:00<00:00, 71.21it/s]\n"
          ]
        },
        {
          "name": "stdout",
          "output_type": "stream",
          "text": [
            "Train Loss: 0.6254 | Train Acc: 0.6438\n",
            "Valid Loss: 0.6027 | Valid Acc: 0.6680\n",
            "✔ Saved best model\n",
            "\n",
            "Epoch 6/100\n",
            "Learning Rate: 0.000050\n"
          ]
        },
        {
          "name": "stderr",
          "output_type": "stream",
          "text": [
            "Training: 100%|██████████| 301/301 [00:10<00:00, 29.02it/s]\n",
            "Validation: 100%|██████████| 54/54 [00:00<00:00, 72.66it/s]\n"
          ]
        },
        {
          "name": "stdout",
          "output_type": "stream",
          "text": [
            "Train Loss: 0.6133 | Train Acc: 0.6522\n",
            "Valid Loss: 0.5868 | Valid Acc: 0.6812\n",
            "✔ Saved best model\n",
            "\n",
            "Epoch 7/100\n",
            "Learning Rate: 0.000050\n"
          ]
        },
        {
          "name": "stderr",
          "output_type": "stream",
          "text": [
            "Training: 100%|██████████| 301/301 [00:10<00:00, 29.09it/s]\n",
            "Validation: 100%|██████████| 54/54 [00:00<00:00, 71.74it/s]\n"
          ]
        },
        {
          "name": "stdout",
          "output_type": "stream",
          "text": [
            "Train Loss: 0.6035 | Train Acc: 0.6626\n",
            "Valid Loss: 0.5802 | Valid Acc: 0.6843\n",
            "✔ Saved best model\n",
            "\n",
            "Epoch 8/100\n",
            "Learning Rate: 0.000050\n"
          ]
        },
        {
          "name": "stderr",
          "output_type": "stream",
          "text": [
            "Training: 100%|██████████| 301/301 [00:10<00:00, 29.23it/s]\n",
            "Validation: 100%|██████████| 54/54 [00:00<00:00, 63.58it/s]\n"
          ]
        },
        {
          "name": "stdout",
          "output_type": "stream",
          "text": [
            "Train Loss: 0.5980 | Train Acc: 0.6661\n",
            "Valid Loss: 0.5716 | Valid Acc: 0.6913\n",
            "✔ Saved best model\n",
            "\n",
            "Epoch 9/100\n",
            "Learning Rate: 0.000050\n"
          ]
        },
        {
          "name": "stderr",
          "output_type": "stream",
          "text": [
            "Training: 100%|██████████| 301/301 [00:10<00:00, 29.01it/s]\n",
            "Validation: 100%|██████████| 54/54 [00:00<00:00, 70.36it/s]\n"
          ]
        },
        {
          "name": "stdout",
          "output_type": "stream",
          "text": [
            "Train Loss: 0.5894 | Train Acc: 0.6753\n",
            "Valid Loss: 0.5655 | Valid Acc: 0.6938\n",
            "✔ Saved best model\n",
            "\n",
            "Epoch 10/100\n",
            "Learning Rate: 0.000050\n"
          ]
        },
        {
          "name": "stderr",
          "output_type": "stream",
          "text": [
            "Training: 100%|██████████| 301/301 [00:10<00:00, 28.63it/s]\n",
            "Validation: 100%|██████████| 54/54 [00:00<00:00, 70.89it/s]\n"
          ]
        },
        {
          "name": "stdout",
          "output_type": "stream",
          "text": [
            "Train Loss: 0.5852 | Train Acc: 0.6776\n",
            "Valid Loss: 0.5638 | Valid Acc: 0.6968\n",
            "✔ Saved best model\n",
            "\n",
            "Epoch 11/100\n",
            "Learning Rate: 0.000050\n"
          ]
        },
        {
          "name": "stderr",
          "output_type": "stream",
          "text": [
            "Training: 100%|██████████| 301/301 [00:10<00:00, 28.60it/s]\n",
            "Validation: 100%|██████████| 54/54 [00:00<00:00, 70.88it/s]\n"
          ]
        },
        {
          "name": "stdout",
          "output_type": "stream",
          "text": [
            "Train Loss: 0.5819 | Train Acc: 0.6810\n",
            "Valid Loss: 0.5558 | Valid Acc: 0.7019\n",
            "✔ Saved best model\n",
            "\n",
            "Epoch 12/100\n",
            "Learning Rate: 0.000050\n"
          ]
        },
        {
          "name": "stderr",
          "output_type": "stream",
          "text": [
            "Training: 100%|██████████| 301/301 [00:10<00:00, 28.68it/s]\n",
            "Validation: 100%|██████████| 54/54 [00:00<00:00, 70.46it/s]\n"
          ]
        },
        {
          "name": "stdout",
          "output_type": "stream",
          "text": [
            "Train Loss: 0.5799 | Train Acc: 0.6800\n",
            "Valid Loss: 0.5551 | Valid Acc: 0.6989\n",
            "✔ Saved best model\n",
            "\n",
            "Epoch 13/100\n",
            "Learning Rate: 0.000050\n"
          ]
        },
        {
          "name": "stderr",
          "output_type": "stream",
          "text": [
            "Training: 100%|██████████| 301/301 [00:10<00:00, 28.87it/s]\n",
            "Validation: 100%|██████████| 54/54 [00:00<00:00, 70.65it/s]\n"
          ]
        },
        {
          "name": "stdout",
          "output_type": "stream",
          "text": [
            "Train Loss: 0.5727 | Train Acc: 0.6859\n",
            "Valid Loss: 0.5509 | Valid Acc: 0.6999\n",
            "✔ Saved best model\n",
            "\n",
            "Epoch 14/100\n",
            "Learning Rate: 0.000050\n"
          ]
        },
        {
          "name": "stderr",
          "output_type": "stream",
          "text": [
            "Training: 100%|██████████| 301/301 [00:10<00:00, 28.79it/s]\n",
            "Validation: 100%|██████████| 54/54 [00:00<00:00, 67.60it/s]\n"
          ]
        },
        {
          "name": "stdout",
          "output_type": "stream",
          "text": [
            "Train Loss: 0.5701 | Train Acc: 0.6910\n",
            "Valid Loss: 0.5470 | Valid Acc: 0.7048\n",
            "✔ Saved best model\n",
            "\n",
            "Epoch 15/100\n",
            "Learning Rate: 0.000050\n"
          ]
        },
        {
          "name": "stderr",
          "output_type": "stream",
          "text": [
            "Training: 100%|██████████| 301/301 [00:10<00:00, 29.08it/s]\n",
            "Validation: 100%|██████████| 54/54 [00:00<00:00, 64.27it/s]\n"
          ]
        },
        {
          "name": "stdout",
          "output_type": "stream",
          "text": [
            "Train Loss: 0.5678 | Train Acc: 0.6922\n",
            "Valid Loss: 0.5432 | Valid Acc: 0.7119\n",
            "✔ Saved best model\n",
            "\n",
            "Epoch 16/100\n",
            "Learning Rate: 0.000050\n"
          ]
        },
        {
          "name": "stderr",
          "output_type": "stream",
          "text": [
            "Training: 100%|██████████| 301/301 [00:10<00:00, 28.92it/s]\n",
            "Validation: 100%|██████████| 54/54 [00:00<00:00, 70.68it/s]\n"
          ]
        },
        {
          "name": "stdout",
          "output_type": "stream",
          "text": [
            "Train Loss: 0.5640 | Train Acc: 0.6949\n",
            "Valid Loss: 0.5411 | Valid Acc: 0.7070\n",
            "✔ Saved best model\n",
            "\n",
            "Epoch 17/100\n",
            "Learning Rate: 0.000050\n"
          ]
        },
        {
          "name": "stderr",
          "output_type": "stream",
          "text": [
            "Training: 100%|██████████| 301/301 [00:10<00:00, 28.84it/s]\n",
            "Validation: 100%|██████████| 54/54 [00:00<00:00, 71.13it/s]\n"
          ]
        },
        {
          "name": "stdout",
          "output_type": "stream",
          "text": [
            "Train Loss: 0.5586 | Train Acc: 0.7002\n",
            "Valid Loss: 0.5371 | Valid Acc: 0.7126\n",
            "✔ Saved best model\n",
            "\n",
            "Epoch 18/100\n",
            "Learning Rate: 0.000050\n"
          ]
        },
        {
          "name": "stderr",
          "output_type": "stream",
          "text": [
            "Training: 100%|██████████| 301/301 [00:10<00:00, 28.83it/s]\n",
            "Validation: 100%|██████████| 54/54 [00:00<00:00, 69.93it/s]\n"
          ]
        },
        {
          "name": "stdout",
          "output_type": "stream",
          "text": [
            "Train Loss: 0.5587 | Train Acc: 0.7017\n",
            "Valid Loss: 0.5337 | Valid Acc: 0.7147\n",
            "✔ Saved best model\n",
            "\n",
            "Epoch 19/100\n",
            "Learning Rate: 0.000050\n"
          ]
        },
        {
          "name": "stderr",
          "output_type": "stream",
          "text": [
            "Training: 100%|██████████| 301/301 [00:10<00:00, 28.76it/s]\n",
            "Validation: 100%|██████████| 54/54 [00:00<00:00, 71.23it/s]\n"
          ]
        },
        {
          "name": "stdout",
          "output_type": "stream",
          "text": [
            "Train Loss: 0.5535 | Train Acc: 0.7066\n",
            "Valid Loss: 0.5311 | Valid Acc: 0.7157\n",
            "✔ Saved best model\n",
            "\n",
            "Epoch 20/100\n",
            "Learning Rate: 0.000050\n"
          ]
        },
        {
          "name": "stderr",
          "output_type": "stream",
          "text": [
            "Training: 100%|██████████| 301/301 [00:10<00:00, 28.62it/s]\n",
            "Validation: 100%|██████████| 54/54 [00:00<00:00, 70.06it/s]\n"
          ]
        },
        {
          "name": "stdout",
          "output_type": "stream",
          "text": [
            "Train Loss: 0.5509 | Train Acc: 0.7069\n",
            "Valid Loss: 0.5285 | Valid Acc: 0.7179\n",
            "✔ Saved best model\n",
            "\n",
            "Epoch 21/100\n",
            "Learning Rate: 0.000050\n"
          ]
        },
        {
          "name": "stderr",
          "output_type": "stream",
          "text": [
            "Training: 100%|██████████| 301/301 [00:10<00:00, 28.67it/s]\n",
            "Validation: 100%|██████████| 54/54 [00:00<00:00, 65.67it/s]\n"
          ]
        },
        {
          "name": "stdout",
          "output_type": "stream",
          "text": [
            "Train Loss: 0.5486 | Train Acc: 0.7077\n",
            "Valid Loss: 0.5287 | Valid Acc: 0.7173\n",
            "No improvement for 1 epochs\n",
            "\n",
            "Epoch 22/100\n",
            "Learning Rate: 0.000050\n"
          ]
        },
        {
          "name": "stderr",
          "output_type": "stream",
          "text": [
            "Training: 100%|██████████| 301/301 [00:10<00:00, 28.96it/s]\n",
            "Validation: 100%|██████████| 54/54 [00:00<00:00, 61.70it/s]\n"
          ]
        },
        {
          "name": "stdout",
          "output_type": "stream",
          "text": [
            "Train Loss: 0.5481 | Train Acc: 0.7089\n",
            "Valid Loss: 0.5234 | Valid Acc: 0.7216\n",
            "✔ Saved best model\n",
            "\n",
            "Epoch 23/100\n",
            "Learning Rate: 0.000050\n"
          ]
        },
        {
          "name": "stderr",
          "output_type": "stream",
          "text": [
            "Training: 100%|██████████| 301/301 [00:10<00:00, 28.85it/s]\n",
            "Validation: 100%|██████████| 54/54 [00:00<00:00, 70.74it/s]\n"
          ]
        },
        {
          "name": "stdout",
          "output_type": "stream",
          "text": [
            "Train Loss: 0.5452 | Train Acc: 0.7087\n",
            "Valid Loss: 0.5226 | Valid Acc: 0.7201\n",
            "✔ Saved best model\n",
            "\n",
            "Epoch 24/100\n",
            "Learning Rate: 0.000050\n"
          ]
        },
        {
          "name": "stderr",
          "output_type": "stream",
          "text": [
            "Training: 100%|██████████| 301/301 [00:10<00:00, 28.74it/s]\n",
            "Validation: 100%|██████████| 54/54 [00:00<00:00, 69.93it/s]\n"
          ]
        },
        {
          "name": "stdout",
          "output_type": "stream",
          "text": [
            "Train Loss: 0.5392 | Train Acc: 0.7156\n",
            "Valid Loss: 0.5214 | Valid Acc: 0.7226\n",
            "✔ Saved best model\n",
            "\n",
            "Epoch 25/100\n",
            "Learning Rate: 0.000050\n"
          ]
        },
        {
          "name": "stderr",
          "output_type": "stream",
          "text": [
            "Training: 100%|██████████| 301/301 [00:10<00:00, 28.75it/s]\n",
            "Validation: 100%|██████████| 54/54 [00:00<00:00, 71.16it/s]\n"
          ]
        },
        {
          "name": "stdout",
          "output_type": "stream",
          "text": [
            "Train Loss: 0.5390 | Train Acc: 0.7149\n",
            "Valid Loss: 0.5191 | Valid Acc: 0.7261\n",
            "✔ Saved best model\n",
            "\n",
            "Epoch 26/100\n",
            "Learning Rate: 0.000050\n"
          ]
        },
        {
          "name": "stderr",
          "output_type": "stream",
          "text": [
            "Training: 100%|██████████| 301/301 [00:10<00:00, 28.68it/s]\n",
            "Validation: 100%|██████████| 54/54 [00:00<00:00, 70.62it/s]\n"
          ]
        },
        {
          "name": "stdout",
          "output_type": "stream",
          "text": [
            "Train Loss: 0.5362 | Train Acc: 0.7160\n",
            "Valid Loss: 0.5168 | Valid Acc: 0.7292\n",
            "✔ Saved best model\n",
            "\n",
            "Epoch 27/100\n",
            "Learning Rate: 0.000050\n"
          ]
        },
        {
          "name": "stderr",
          "output_type": "stream",
          "text": [
            "Training: 100%|██████████| 301/301 [00:10<00:00, 28.70it/s]\n",
            "Validation: 100%|██████████| 54/54 [00:00<00:00, 69.59it/s]\n"
          ]
        },
        {
          "name": "stdout",
          "output_type": "stream",
          "text": [
            "Train Loss: 0.5340 | Train Acc: 0.7194\n",
            "Valid Loss: 0.5149 | Valid Acc: 0.7261\n",
            "✔ Saved best model\n",
            "\n",
            "Epoch 28/100\n",
            "Learning Rate: 0.000050\n"
          ]
        },
        {
          "name": "stderr",
          "output_type": "stream",
          "text": [
            "Training: 100%|██████████| 301/301 [00:10<00:00, 28.87it/s]\n",
            "Validation: 100%|██████████| 54/54 [00:00<00:00, 63.50it/s]\n"
          ]
        },
        {
          "name": "stdout",
          "output_type": "stream",
          "text": [
            "Train Loss: 0.5331 | Train Acc: 0.7223\n",
            "Valid Loss: 0.5153 | Valid Acc: 0.7260\n",
            "No improvement for 1 epochs\n",
            "\n",
            "Epoch 29/100\n",
            "Learning Rate: 0.000050\n"
          ]
        },
        {
          "name": "stderr",
          "output_type": "stream",
          "text": [
            "Training: 100%|██████████| 301/301 [00:10<00:00, 29.00it/s]\n",
            "Validation: 100%|██████████| 54/54 [00:00<00:00, 63.99it/s]\n"
          ]
        },
        {
          "name": "stdout",
          "output_type": "stream",
          "text": [
            "Train Loss: 0.5312 | Train Acc: 0.7219\n",
            "Valid Loss: 0.5211 | Valid Acc: 0.7191\n",
            "No improvement for 2 epochs\n",
            "\n",
            "Epoch 30/100\n",
            "Learning Rate: 0.000050\n"
          ]
        },
        {
          "name": "stderr",
          "output_type": "stream",
          "text": [
            "Training: 100%|██████████| 301/301 [00:10<00:00, 28.91it/s]\n",
            "Validation: 100%|██████████| 54/54 [00:00<00:00, 70.09it/s]\n"
          ]
        },
        {
          "name": "stdout",
          "output_type": "stream",
          "text": [
            "Train Loss: 0.5273 | Train Acc: 0.7214\n",
            "Valid Loss: 0.5103 | Valid Acc: 0.7301\n",
            "✔ Saved best model\n",
            "\n",
            "Epoch 31/100\n",
            "Learning Rate: 0.000050\n"
          ]
        },
        {
          "name": "stderr",
          "output_type": "stream",
          "text": [
            "Training: 100%|██████████| 301/301 [00:10<00:00, 28.70it/s]\n",
            "Validation: 100%|██████████| 54/54 [00:00<00:00, 69.71it/s]\n"
          ]
        },
        {
          "name": "stdout",
          "output_type": "stream",
          "text": [
            "Train Loss: 0.5262 | Train Acc: 0.7253\n",
            "Valid Loss: 0.5127 | Valid Acc: 0.7281\n",
            "No improvement for 1 epochs\n",
            "\n",
            "Epoch 32/100\n",
            "Learning Rate: 0.000050\n"
          ]
        },
        {
          "name": "stderr",
          "output_type": "stream",
          "text": [
            "Training: 100%|██████████| 301/301 [00:10<00:00, 28.60it/s]\n",
            "Validation: 100%|██████████| 54/54 [00:00<00:00, 69.74it/s]\n"
          ]
        },
        {
          "name": "stdout",
          "output_type": "stream",
          "text": [
            "Train Loss: 0.5213 | Train Acc: 0.7292\n",
            "Valid Loss: 0.5082 | Valid Acc: 0.7307\n",
            "✔ Saved best model\n",
            "\n",
            "Epoch 33/100\n",
            "Learning Rate: 0.000050\n"
          ]
        },
        {
          "name": "stderr",
          "output_type": "stream",
          "text": [
            "Training: 100%|██████████| 301/301 [00:10<00:00, 28.68it/s]\n",
            "Validation: 100%|██████████| 54/54 [00:00<00:00, 70.25it/s]\n"
          ]
        },
        {
          "name": "stdout",
          "output_type": "stream",
          "text": [
            "Train Loss: 0.5221 | Train Acc: 0.7274\n",
            "Valid Loss: 0.5133 | Valid Acc: 0.7272\n",
            "No improvement for 1 epochs\n",
            "\n",
            "Epoch 34/100\n",
            "Learning Rate: 0.000050\n"
          ]
        },
        {
          "name": "stderr",
          "output_type": "stream",
          "text": [
            "Training: 100%|██████████| 301/301 [00:10<00:00, 28.71it/s]\n",
            "Validation: 100%|██████████| 54/54 [00:00<00:00, 69.43it/s]\n"
          ]
        },
        {
          "name": "stdout",
          "output_type": "stream",
          "text": [
            "Train Loss: 0.5179 | Train Acc: 0.7306\n",
            "Valid Loss: 0.5038 | Valid Acc: 0.7363\n",
            "✔ Saved best model\n",
            "\n",
            "Epoch 35/100\n",
            "Learning Rate: 0.000050\n"
          ]
        },
        {
          "name": "stderr",
          "output_type": "stream",
          "text": [
            "Training: 100%|██████████| 301/301 [00:10<00:00, 28.86it/s]\n",
            "Validation: 100%|██████████| 54/54 [00:00<00:00, 63.20it/s]\n"
          ]
        },
        {
          "name": "stdout",
          "output_type": "stream",
          "text": [
            "Train Loss: 0.5193 | Train Acc: 0.7273\n",
            "Valid Loss: 0.5038 | Valid Acc: 0.7359\n",
            "No improvement for 1 epochs\n",
            "\n",
            "Epoch 36/100\n",
            "Learning Rate: 0.000050\n"
          ]
        },
        {
          "name": "stderr",
          "output_type": "stream",
          "text": [
            "Training: 100%|██████████| 301/301 [00:10<00:00, 28.94it/s]\n",
            "Validation: 100%|██████████| 54/54 [00:00<00:00, 64.18it/s]\n"
          ]
        },
        {
          "name": "stdout",
          "output_type": "stream",
          "text": [
            "Train Loss: 0.5146 | Train Acc: 0.7336\n",
            "Valid Loss: 0.5059 | Valid Acc: 0.7340\n",
            "No improvement for 2 epochs\n",
            "\n",
            "Epoch 37/100\n",
            "Learning Rate: 0.000050\n"
          ]
        },
        {
          "name": "stderr",
          "output_type": "stream",
          "text": [
            "Training: 100%|██████████| 301/301 [00:10<00:00, 28.82it/s]\n",
            "Validation: 100%|██████████| 54/54 [00:00<00:00, 71.13it/s]\n"
          ]
        },
        {
          "name": "stdout",
          "output_type": "stream",
          "text": [
            "Train Loss: 0.5184 | Train Acc: 0.7303\n",
            "Valid Loss: 0.5037 | Valid Acc: 0.7348\n",
            "✔ Saved best model\n",
            "\n",
            "Epoch 38/100\n",
            "Learning Rate: 0.000050\n"
          ]
        },
        {
          "name": "stderr",
          "output_type": "stream",
          "text": [
            "Training: 100%|██████████| 301/301 [00:10<00:00, 28.78it/s]\n",
            "Validation: 100%|██████████| 54/54 [00:00<00:00, 70.06it/s]\n"
          ]
        },
        {
          "name": "stdout",
          "output_type": "stream",
          "text": [
            "Train Loss: 0.5135 | Train Acc: 0.7346\n",
            "Valid Loss: 0.4997 | Valid Acc: 0.7379\n",
            "✔ Saved best model\n",
            "\n",
            "Epoch 39/100\n",
            "Learning Rate: 0.000050\n"
          ]
        },
        {
          "name": "stderr",
          "output_type": "stream",
          "text": [
            "Training: 100%|██████████| 301/301 [00:10<00:00, 28.66it/s]\n",
            "Validation: 100%|██████████| 54/54 [00:00<00:00, 70.04it/s]\n"
          ]
        },
        {
          "name": "stdout",
          "output_type": "stream",
          "text": [
            "Train Loss: 0.5146 | Train Acc: 0.7358\n",
            "Valid Loss: 0.5004 | Valid Acc: 0.7381\n",
            "No improvement for 1 epochs\n",
            "\n",
            "Epoch 40/100\n",
            "Learning Rate: 0.000050\n"
          ]
        },
        {
          "name": "stderr",
          "output_type": "stream",
          "text": [
            "Training: 100%|██████████| 301/301 [00:10<00:00, 28.73it/s]\n",
            "Validation: 100%|██████████| 54/54 [00:00<00:00, 70.44it/s]\n"
          ]
        },
        {
          "name": "stdout",
          "output_type": "stream",
          "text": [
            "Train Loss: 0.5077 | Train Acc: 0.7379\n",
            "Valid Loss: 0.5000 | Valid Acc: 0.7394\n",
            "No improvement for 2 epochs\n",
            "\n",
            "Epoch 41/100\n",
            "Learning Rate: 0.000050\n"
          ]
        },
        {
          "name": "stderr",
          "output_type": "stream",
          "text": [
            "Training: 100%|██████████| 301/301 [00:10<00:00, 28.62it/s]\n",
            "Validation: 100%|██████████| 54/54 [00:00<00:00, 71.38it/s]\n"
          ]
        },
        {
          "name": "stdout",
          "output_type": "stream",
          "text": [
            "Train Loss: 0.5078 | Train Acc: 0.7419\n",
            "Valid Loss: 0.4969 | Valid Acc: 0.7413\n",
            "✔ Saved best model\n",
            "\n",
            "Epoch 42/100\n",
            "Learning Rate: 0.000050\n"
          ]
        },
        {
          "name": "stderr",
          "output_type": "stream",
          "text": [
            "Training: 100%|██████████| 301/301 [00:10<00:00, 28.87it/s]\n",
            "Validation: 100%|██████████| 54/54 [00:00<00:00, 62.62it/s]\n"
          ]
        },
        {
          "name": "stdout",
          "output_type": "stream",
          "text": [
            "Train Loss: 0.5040 | Train Acc: 0.7388\n",
            "Valid Loss: 0.4943 | Valid Acc: 0.7415\n",
            "✔ Saved best model\n",
            "\n",
            "Epoch 43/100\n",
            "Learning Rate: 0.000050\n"
          ]
        },
        {
          "name": "stderr",
          "output_type": "stream",
          "text": [
            "Training: 100%|██████████| 301/301 [00:10<00:00, 29.03it/s]\n",
            "Validation: 100%|██████████| 54/54 [00:00<00:00, 62.44it/s]\n"
          ]
        },
        {
          "name": "stdout",
          "output_type": "stream",
          "text": [
            "Train Loss: 0.5064 | Train Acc: 0.7390\n",
            "Valid Loss: 0.5001 | Valid Acc: 0.7359\n",
            "No improvement for 1 epochs\n",
            "\n",
            "Epoch 44/100\n",
            "Learning Rate: 0.000050\n"
          ]
        },
        {
          "name": "stderr",
          "output_type": "stream",
          "text": [
            "Training: 100%|██████████| 301/301 [00:10<00:00, 28.87it/s]\n",
            "Validation: 100%|██████████| 54/54 [00:00<00:00, 71.63it/s]\n"
          ]
        },
        {
          "name": "stdout",
          "output_type": "stream",
          "text": [
            "Train Loss: 0.4999 | Train Acc: 0.7429\n",
            "Valid Loss: 0.4936 | Valid Acc: 0.7435\n",
            "✔ Saved best model\n",
            "\n",
            "Epoch 45/100\n",
            "Learning Rate: 0.000050\n"
          ]
        },
        {
          "name": "stderr",
          "output_type": "stream",
          "text": [
            "Training: 100%|██████████| 301/301 [00:10<00:00, 28.67it/s]\n",
            "Validation: 100%|██████████| 54/54 [00:00<00:00, 69.40it/s]\n"
          ]
        },
        {
          "name": "stdout",
          "output_type": "stream",
          "text": [
            "Train Loss: 0.5010 | Train Acc: 0.7432\n",
            "Valid Loss: 0.4930 | Valid Acc: 0.7415\n",
            "✔ Saved best model\n",
            "\n",
            "Epoch 46/100\n",
            "Learning Rate: 0.000050\n"
          ]
        },
        {
          "name": "stderr",
          "output_type": "stream",
          "text": [
            "Training: 100%|██████████| 301/301 [00:10<00:00, 28.82it/s]\n",
            "Validation: 100%|██████████| 54/54 [00:00<00:00, 70.48it/s]\n"
          ]
        },
        {
          "name": "stdout",
          "output_type": "stream",
          "text": [
            "Train Loss: 0.5012 | Train Acc: 0.7435\n",
            "Valid Loss: 0.4907 | Valid Acc: 0.7448\n",
            "✔ Saved best model\n",
            "\n",
            "Epoch 47/100\n",
            "Learning Rate: 0.000050\n"
          ]
        },
        {
          "name": "stderr",
          "output_type": "stream",
          "text": [
            "Training: 100%|██████████| 301/301 [00:10<00:00, 28.66it/s]\n",
            "Validation: 100%|██████████| 54/54 [00:00<00:00, 70.28it/s]\n"
          ]
        },
        {
          "name": "stdout",
          "output_type": "stream",
          "text": [
            "Train Loss: 0.4982 | Train Acc: 0.7441\n",
            "Valid Loss: 0.4984 | Valid Acc: 0.7437\n",
            "No improvement for 1 epochs\n",
            "\n",
            "Epoch 48/100\n",
            "Learning Rate: 0.000050\n"
          ]
        },
        {
          "name": "stderr",
          "output_type": "stream",
          "text": [
            "Training: 100%|██████████| 301/301 [00:10<00:00, 28.63it/s]\n",
            "Validation: 100%|██████████| 54/54 [00:00<00:00, 70.75it/s]\n"
          ]
        },
        {
          "name": "stdout",
          "output_type": "stream",
          "text": [
            "Train Loss: 0.4984 | Train Acc: 0.7449\n",
            "Valid Loss: 0.4928 | Valid Acc: 0.7426\n",
            "No improvement for 2 epochs\n",
            "\n",
            "Epoch 49/100\n",
            "Learning Rate: 0.000050\n"
          ]
        },
        {
          "name": "stderr",
          "output_type": "stream",
          "text": [
            "Training: 100%|██████████| 301/301 [00:10<00:00, 28.76it/s]\n",
            "Validation: 100%|██████████| 54/54 [00:00<00:00, 62.83it/s]\n"
          ]
        },
        {
          "name": "stdout",
          "output_type": "stream",
          "text": [
            "Train Loss: 0.4925 | Train Acc: 0.7467\n",
            "Valid Loss: 0.4893 | Valid Acc: 0.7418\n",
            "✔ Saved best model\n",
            "\n",
            "Epoch 50/100\n",
            "Learning Rate: 0.000050\n"
          ]
        },
        {
          "name": "stderr",
          "output_type": "stream",
          "text": [
            "Training: 100%|██████████| 301/301 [00:10<00:00, 28.96it/s]\n",
            "Validation: 100%|██████████| 54/54 [00:00<00:00, 63.73it/s]\n"
          ]
        },
        {
          "name": "stdout",
          "output_type": "stream",
          "text": [
            "Train Loss: 0.4923 | Train Acc: 0.7479\n",
            "Valid Loss: 0.4998 | Valid Acc: 0.7412\n",
            "No improvement for 1 epochs\n",
            "\n",
            "Epoch 51/100\n",
            "Learning Rate: 0.000050\n"
          ]
        },
        {
          "name": "stderr",
          "output_type": "stream",
          "text": [
            "Training: 100%|██████████| 301/301 [00:10<00:00, 28.69it/s]\n",
            "Validation: 100%|██████████| 54/54 [00:00<00:00, 70.43it/s]\n"
          ]
        },
        {
          "name": "stdout",
          "output_type": "stream",
          "text": [
            "Train Loss: 0.4933 | Train Acc: 0.7505\n",
            "Valid Loss: 0.4919 | Valid Acc: 0.7418\n",
            "No improvement for 2 epochs\n",
            "\n",
            "Epoch 52/100\n",
            "Learning Rate: 0.000050\n"
          ]
        },
        {
          "name": "stderr",
          "output_type": "stream",
          "text": [
            "Training: 100%|██████████| 301/301 [00:10<00:00, 28.62it/s]\n",
            "Validation: 100%|██████████| 54/54 [00:00<00:00, 70.43it/s]\n"
          ]
        },
        {
          "name": "stdout",
          "output_type": "stream",
          "text": [
            "Train Loss: 0.4894 | Train Acc: 0.7498\n",
            "Valid Loss: 0.4856 | Valid Acc: 0.7460\n",
            "✔ Saved best model\n",
            "\n",
            "Epoch 53/100\n",
            "Learning Rate: 0.000050\n"
          ]
        },
        {
          "name": "stderr",
          "output_type": "stream",
          "text": [
            "Training: 100%|██████████| 301/301 [00:10<00:00, 28.68it/s]\n",
            "Validation: 100%|██████████| 54/54 [00:00<00:00, 71.11it/s]\n"
          ]
        },
        {
          "name": "stdout",
          "output_type": "stream",
          "text": [
            "Train Loss: 0.4897 | Train Acc: 0.7506\n",
            "Valid Loss: 0.4843 | Valid Acc: 0.7493\n",
            "✔ Saved best model\n",
            "\n",
            "Epoch 54/100\n",
            "Learning Rate: 0.000050\n"
          ]
        },
        {
          "name": "stderr",
          "output_type": "stream",
          "text": [
            "Training: 100%|██████████| 301/301 [00:10<00:00, 28.59it/s]\n",
            "Validation: 100%|██████████| 54/54 [00:00<00:00, 70.50it/s]\n"
          ]
        },
        {
          "name": "stdout",
          "output_type": "stream",
          "text": [
            "Train Loss: 0.4878 | Train Acc: 0.7519\n",
            "Valid Loss: 0.4845 | Valid Acc: 0.7476\n",
            "No improvement for 1 epochs\n",
            "\n",
            "Epoch 55/100\n",
            "Learning Rate: 0.000050\n"
          ]
        },
        {
          "name": "stderr",
          "output_type": "stream",
          "text": [
            "Training: 100%|██████████| 301/301 [00:10<00:00, 28.66it/s]\n",
            "Validation: 100%|██████████| 54/54 [00:00<00:00, 69.68it/s]\n"
          ]
        },
        {
          "name": "stdout",
          "output_type": "stream",
          "text": [
            "Train Loss: 0.4836 | Train Acc: 0.7558\n",
            "Valid Loss: 0.4845 | Valid Acc: 0.7469\n",
            "No improvement for 2 epochs\n",
            "\n",
            "Epoch 56/100\n",
            "Learning Rate: 0.000050\n"
          ]
        },
        {
          "name": "stderr",
          "output_type": "stream",
          "text": [
            "Training: 100%|██████████| 301/301 [00:10<00:00, 28.88it/s]\n",
            "Validation: 100%|██████████| 54/54 [00:00<00:00, 62.13it/s]\n"
          ]
        },
        {
          "name": "stdout",
          "output_type": "stream",
          "text": [
            "Train Loss: 0.4811 | Train Acc: 0.7564\n",
            "Valid Loss: 0.4842 | Valid Acc: 0.7473\n",
            "✔ Saved best model\n",
            "\n",
            "Epoch 57/100\n",
            "Learning Rate: 0.000050\n"
          ]
        },
        {
          "name": "stderr",
          "output_type": "stream",
          "text": [
            "Training: 100%|██████████| 301/301 [00:10<00:00, 29.02it/s]\n",
            "Validation: 100%|██████████| 54/54 [00:00<00:00, 65.53it/s]\n"
          ]
        },
        {
          "name": "stdout",
          "output_type": "stream",
          "text": [
            "Train Loss: 0.4840 | Train Acc: 0.7522\n",
            "Valid Loss: 0.4891 | Valid Acc: 0.7471\n",
            "No improvement for 1 epochs\n",
            "\n",
            "Epoch 58/100\n",
            "Learning Rate: 0.000050\n"
          ]
        },
        {
          "name": "stderr",
          "output_type": "stream",
          "text": [
            "Training: 100%|██████████| 301/301 [00:10<00:00, 28.68it/s]\n",
            "Validation: 100%|██████████| 54/54 [00:00<00:00, 70.31it/s]\n"
          ]
        },
        {
          "name": "stdout",
          "output_type": "stream",
          "text": [
            "Train Loss: 0.4807 | Train Acc: 0.7571\n",
            "Valid Loss: 0.4812 | Valid Acc: 0.7500\n",
            "✔ Saved best model\n",
            "\n",
            "Epoch 59/100\n",
            "Learning Rate: 0.000050\n"
          ]
        },
        {
          "name": "stderr",
          "output_type": "stream",
          "text": [
            "Training: 100%|██████████| 301/301 [00:10<00:00, 28.68it/s]\n",
            "Validation: 100%|██████████| 54/54 [00:00<00:00, 70.14it/s]\n"
          ]
        },
        {
          "name": "stdout",
          "output_type": "stream",
          "text": [
            "Train Loss: 0.4791 | Train Acc: 0.7580\n",
            "Valid Loss: 0.4857 | Valid Acc: 0.7529\n",
            "No improvement for 1 epochs\n",
            "\n",
            "Epoch 60/100\n",
            "Learning Rate: 0.000050\n"
          ]
        },
        {
          "name": "stderr",
          "output_type": "stream",
          "text": [
            "Training: 100%|██████████| 301/301 [00:11<00:00, 26.05it/s]\n",
            "Validation: 100%|██████████| 54/54 [00:00<00:00, 69.88it/s]\n"
          ]
        },
        {
          "name": "stdout",
          "output_type": "stream",
          "text": [
            "Train Loss: 0.4799 | Train Acc: 0.7597\n",
            "Valid Loss: 0.4807 | Valid Acc: 0.7506\n",
            "✔ Saved best model\n",
            "\n",
            "Epoch 61/100\n",
            "Learning Rate: 0.000050\n"
          ]
        },
        {
          "name": "stderr",
          "output_type": "stream",
          "text": [
            "Training: 100%|██████████| 301/301 [00:10<00:00, 28.70it/s]\n",
            "Validation: 100%|██████████| 54/54 [00:00<00:00, 69.58it/s]\n"
          ]
        },
        {
          "name": "stdout",
          "output_type": "stream",
          "text": [
            "Train Loss: 0.4755 | Train Acc: 0.7584\n",
            "Valid Loss: 0.4808 | Valid Acc: 0.7499\n",
            "No improvement for 1 epochs\n",
            "\n",
            "Epoch 62/100\n",
            "Learning Rate: 0.000050\n"
          ]
        },
        {
          "name": "stderr",
          "output_type": "stream",
          "text": [
            "Training: 100%|██████████| 301/301 [00:10<00:00, 28.74it/s]\n",
            "Validation: 100%|██████████| 54/54 [00:00<00:00, 71.10it/s]\n"
          ]
        },
        {
          "name": "stdout",
          "output_type": "stream",
          "text": [
            "Train Loss: 0.4751 | Train Acc: 0.7593\n",
            "Valid Loss: 0.4793 | Valid Acc: 0.7499\n",
            "✔ Saved best model\n",
            "\n",
            "Epoch 63/100\n",
            "Learning Rate: 0.000050\n"
          ]
        },
        {
          "name": "stderr",
          "output_type": "stream",
          "text": [
            "Training: 100%|██████████| 301/301 [00:10<00:00, 28.79it/s]\n",
            "Validation: 100%|██████████| 54/54 [00:00<00:00, 61.89it/s]\n"
          ]
        },
        {
          "name": "stdout",
          "output_type": "stream",
          "text": [
            "Train Loss: 0.4734 | Train Acc: 0.7616\n",
            "Valid Loss: 0.4817 | Valid Acc: 0.7494\n",
            "No improvement for 1 epochs\n",
            "\n",
            "Epoch 64/100\n",
            "Learning Rate: 0.000050\n"
          ]
        },
        {
          "name": "stderr",
          "output_type": "stream",
          "text": [
            "Training: 100%|██████████| 301/301 [00:10<00:00, 28.95it/s]\n",
            "Validation: 100%|██████████| 54/54 [00:00<00:00, 63.81it/s]\n"
          ]
        },
        {
          "name": "stdout",
          "output_type": "stream",
          "text": [
            "Train Loss: 0.4757 | Train Acc: 0.7621\n",
            "Valid Loss: 0.4797 | Valid Acc: 0.7529\n",
            "No improvement for 2 epochs\n",
            "\n",
            "Epoch 65/100\n",
            "Learning Rate: 0.000050\n"
          ]
        },
        {
          "name": "stderr",
          "output_type": "stream",
          "text": [
            "Training: 100%|██████████| 301/301 [00:10<00:00, 28.61it/s]\n",
            "Validation: 100%|██████████| 54/54 [00:00<00:00, 69.98it/s]\n"
          ]
        },
        {
          "name": "stdout",
          "output_type": "stream",
          "text": [
            "Train Loss: 0.4728 | Train Acc: 0.7623\n",
            "Valid Loss: 0.4769 | Valid Acc: 0.7515\n",
            "✔ Saved best model\n",
            "\n",
            "Epoch 66/100\n",
            "Learning Rate: 0.000050\n"
          ]
        },
        {
          "name": "stderr",
          "output_type": "stream",
          "text": [
            "Training: 100%|██████████| 301/301 [00:10<00:00, 28.63it/s]\n",
            "Validation: 100%|██████████| 54/54 [00:00<00:00, 71.21it/s]\n"
          ]
        },
        {
          "name": "stdout",
          "output_type": "stream",
          "text": [
            "Train Loss: 0.4719 | Train Acc: 0.7630\n",
            "Valid Loss: 0.4779 | Valid Acc: 0.7518\n",
            "No improvement for 1 epochs\n",
            "\n",
            "Epoch 67/100\n",
            "Learning Rate: 0.000050\n"
          ]
        },
        {
          "name": "stderr",
          "output_type": "stream",
          "text": [
            "Training: 100%|██████████| 301/301 [00:10<00:00, 28.66it/s]\n",
            "Validation: 100%|██████████| 54/54 [00:00<00:00, 69.62it/s]\n"
          ]
        },
        {
          "name": "stdout",
          "output_type": "stream",
          "text": [
            "Train Loss: 0.4700 | Train Acc: 0.7642\n",
            "Valid Loss: 0.4757 | Valid Acc: 0.7556\n",
            "✔ Saved best model\n",
            "\n",
            "Epoch 68/100\n",
            "Learning Rate: 0.000050\n"
          ]
        },
        {
          "name": "stderr",
          "output_type": "stream",
          "text": [
            "Training: 100%|██████████| 301/301 [00:10<00:00, 28.60it/s]\n",
            "Validation: 100%|██████████| 54/54 [00:00<00:00, 70.43it/s]\n"
          ]
        },
        {
          "name": "stdout",
          "output_type": "stream",
          "text": [
            "Train Loss: 0.4696 | Train Acc: 0.7641\n",
            "Valid Loss: 0.4773 | Valid Acc: 0.7510\n",
            "No improvement for 1 epochs\n",
            "\n",
            "Epoch 69/100\n",
            "Learning Rate: 0.000050\n"
          ]
        },
        {
          "name": "stderr",
          "output_type": "stream",
          "text": [
            "Training: 100%|██████████| 301/301 [00:10<00:00, 28.48it/s]\n",
            "Validation: 100%|██████████| 54/54 [00:00<00:00, 70.30it/s]\n"
          ]
        },
        {
          "name": "stdout",
          "output_type": "stream",
          "text": [
            "Train Loss: 0.4642 | Train Acc: 0.7682\n",
            "Valid Loss: 0.4787 | Valid Acc: 0.7524\n",
            "No improvement for 2 epochs\n",
            "\n",
            "Epoch 70/100\n",
            "Learning Rate: 0.000050\n"
          ]
        },
        {
          "name": "stderr",
          "output_type": "stream",
          "text": [
            "Training: 100%|██████████| 301/301 [00:10<00:00, 28.94it/s]\n",
            "Validation: 100%|██████████| 54/54 [00:00<00:00, 62.55it/s]\n"
          ]
        },
        {
          "name": "stdout",
          "output_type": "stream",
          "text": [
            "Train Loss: 0.4670 | Train Acc: 0.7669\n",
            "Valid Loss: 0.4754 | Valid Acc: 0.7568\n",
            "✔ Saved best model\n",
            "\n",
            "Epoch 71/100\n",
            "Learning Rate: 0.000050\n"
          ]
        },
        {
          "name": "stderr",
          "output_type": "stream",
          "text": [
            "Training: 100%|██████████| 301/301 [00:10<00:00, 29.06it/s]\n",
            "Validation: 100%|██████████| 54/54 [00:00<00:00, 62.55it/s]\n"
          ]
        },
        {
          "name": "stdout",
          "output_type": "stream",
          "text": [
            "Train Loss: 0.4652 | Train Acc: 0.7656\n",
            "Valid Loss: 0.4799 | Valid Acc: 0.7522\n",
            "No improvement for 1 epochs\n",
            "\n",
            "Epoch 72/100\n",
            "Learning Rate: 0.000050\n"
          ]
        },
        {
          "name": "stderr",
          "output_type": "stream",
          "text": [
            "Training: 100%|██████████| 301/301 [00:10<00:00, 28.64it/s]\n",
            "Validation: 100%|██████████| 54/54 [00:00<00:00, 71.16it/s]\n"
          ]
        },
        {
          "name": "stdout",
          "output_type": "stream",
          "text": [
            "Train Loss: 0.4638 | Train Acc: 0.7677\n",
            "Valid Loss: 0.4770 | Valid Acc: 0.7543\n",
            "No improvement for 2 epochs\n",
            "\n",
            "Epoch 73/100\n",
            "Learning Rate: 0.000050\n"
          ]
        },
        {
          "name": "stderr",
          "output_type": "stream",
          "text": [
            "Training: 100%|██████████| 301/301 [00:10<00:00, 28.59it/s]\n",
            "Validation: 100%|██████████| 54/54 [00:00<00:00, 69.14it/s]\n"
          ]
        },
        {
          "name": "stdout",
          "output_type": "stream",
          "text": [
            "Train Loss: 0.4616 | Train Acc: 0.7700\n",
            "Valid Loss: 0.4731 | Valid Acc: 0.7549\n",
            "✔ Saved best model\n",
            "\n",
            "Epoch 74/100\n",
            "Learning Rate: 0.000050\n"
          ]
        },
        {
          "name": "stderr",
          "output_type": "stream",
          "text": [
            "Training: 100%|██████████| 301/301 [00:10<00:00, 28.54it/s]\n",
            "Validation: 100%|██████████| 54/54 [00:00<00:00, 69.96it/s]\n"
          ]
        },
        {
          "name": "stdout",
          "output_type": "stream",
          "text": [
            "Train Loss: 0.4617 | Train Acc: 0.7683\n",
            "Valid Loss: 0.4740 | Valid Acc: 0.7538\n",
            "No improvement for 1 epochs\n",
            "\n",
            "Epoch 75/100\n",
            "Learning Rate: 0.000050\n"
          ]
        },
        {
          "name": "stderr",
          "output_type": "stream",
          "text": [
            "Training: 100%|██████████| 301/301 [00:10<00:00, 28.53it/s]\n",
            "Validation: 100%|██████████| 54/54 [00:00<00:00, 69.58it/s]\n"
          ]
        },
        {
          "name": "stdout",
          "output_type": "stream",
          "text": [
            "Train Loss: 0.4599 | Train Acc: 0.7710\n",
            "Valid Loss: 0.4745 | Valid Acc: 0.7550\n",
            "No improvement for 2 epochs\n",
            "\n",
            "Epoch 76/100\n",
            "Learning Rate: 0.000050\n"
          ]
        },
        {
          "name": "stderr",
          "output_type": "stream",
          "text": [
            "Training: 100%|██████████| 301/301 [00:10<00:00, 28.54it/s]\n",
            "Validation: 100%|██████████| 54/54 [00:00<00:00, 70.28it/s]\n"
          ]
        },
        {
          "name": "stdout",
          "output_type": "stream",
          "text": [
            "Train Loss: 0.4563 | Train Acc: 0.7746\n",
            "Valid Loss: 0.4767 | Valid Acc: 0.7585\n",
            "No improvement for 3 epochs\n",
            "\n",
            "Epoch 77/100\n",
            "Learning Rate: 0.000005\n"
          ]
        },
        {
          "name": "stderr",
          "output_type": "stream",
          "text": [
            "Training: 100%|██████████| 301/301 [00:10<00:00, 28.79it/s]\n",
            "Validation: 100%|██████████| 54/54 [00:00<00:00, 62.95it/s]\n"
          ]
        },
        {
          "name": "stdout",
          "output_type": "stream",
          "text": [
            "Train Loss: 0.4539 | Train Acc: 0.7754\n",
            "Valid Loss: 0.4723 | Valid Acc: 0.7578\n",
            "✔ Saved best model\n",
            "\n",
            "Epoch 78/100\n",
            "Learning Rate: 0.000005\n"
          ]
        },
        {
          "name": "stderr",
          "output_type": "stream",
          "text": [
            "Training: 100%|██████████| 301/301 [00:10<00:00, 28.95it/s]\n",
            "Validation: 100%|██████████| 54/54 [00:00<00:00, 63.50it/s]\n"
          ]
        },
        {
          "name": "stdout",
          "output_type": "stream",
          "text": [
            "Train Loss: 0.4539 | Train Acc: 0.7737\n",
            "Valid Loss: 0.4719 | Valid Acc: 0.7574\n",
            "✔ Saved best model\n",
            "\n",
            "Epoch 79/100\n",
            "Learning Rate: 0.000005\n"
          ]
        },
        {
          "name": "stderr",
          "output_type": "stream",
          "text": [
            "Training: 100%|██████████| 301/301 [00:10<00:00, 28.73it/s]\n",
            "Validation: 100%|██████████| 54/54 [00:00<00:00, 70.78it/s]\n"
          ]
        },
        {
          "name": "stdout",
          "output_type": "stream",
          "text": [
            "Train Loss: 0.4545 | Train Acc: 0.7783\n",
            "Valid Loss: 0.4715 | Valid Acc: 0.7572\n",
            "✔ Saved best model\n",
            "\n",
            "Epoch 80/100\n",
            "Learning Rate: 0.000005\n"
          ]
        },
        {
          "name": "stderr",
          "output_type": "stream",
          "text": [
            "Training: 100%|██████████| 301/301 [00:10<00:00, 28.61it/s]\n",
            "Validation: 100%|██████████| 54/54 [00:00<00:00, 69.39it/s]\n"
          ]
        },
        {
          "name": "stdout",
          "output_type": "stream",
          "text": [
            "Train Loss: 0.4539 | Train Acc: 0.7731\n",
            "Valid Loss: 0.4720 | Valid Acc: 0.7569\n",
            "No improvement for 1 epochs\n",
            "\n",
            "Epoch 81/100\n",
            "Learning Rate: 0.000005\n"
          ]
        },
        {
          "name": "stderr",
          "output_type": "stream",
          "text": [
            "Training: 100%|██████████| 301/301 [00:10<00:00, 28.66it/s]\n",
            "Validation: 100%|██████████| 54/54 [00:00<00:00, 69.91it/s]\n"
          ]
        },
        {
          "name": "stdout",
          "output_type": "stream",
          "text": [
            "Train Loss: 0.4521 | Train Acc: 0.7751\n",
            "Valid Loss: 0.4721 | Valid Acc: 0.7572\n",
            "No improvement for 2 epochs\n",
            "\n",
            "Epoch 82/100\n",
            "Learning Rate: 0.000005\n"
          ]
        },
        {
          "name": "stderr",
          "output_type": "stream",
          "text": [
            "Training: 100%|██████████| 301/301 [00:10<00:00, 28.56it/s]\n",
            "Validation: 100%|██████████| 54/54 [00:00<00:00, 69.74it/s]\n"
          ]
        },
        {
          "name": "stdout",
          "output_type": "stream",
          "text": [
            "Train Loss: 0.4536 | Train Acc: 0.7763\n",
            "Valid Loss: 0.4713 | Valid Acc: 0.7584\n",
            "✔ Saved best model\n",
            "\n",
            "Epoch 83/100\n",
            "Learning Rate: 0.000005\n"
          ]
        },
        {
          "name": "stderr",
          "output_type": "stream",
          "text": [
            "Training: 100%|██████████| 301/301 [00:10<00:00, 28.55it/s]\n",
            "Validation: 100%|██████████| 54/54 [00:00<00:00, 69.95it/s]\n"
          ]
        },
        {
          "name": "stdout",
          "output_type": "stream",
          "text": [
            "Train Loss: 0.4512 | Train Acc: 0.7753\n",
            "Valid Loss: 0.4726 | Valid Acc: 0.7568\n",
            "No improvement for 1 epochs\n",
            "\n",
            "Epoch 84/100\n",
            "Learning Rate: 0.000005\n"
          ]
        },
        {
          "name": "stderr",
          "output_type": "stream",
          "text": [
            "Training: 100%|██████████| 301/301 [00:10<00:00, 28.84it/s]\n",
            "Validation: 100%|██████████| 54/54 [00:00<00:00, 63.22it/s]\n"
          ]
        },
        {
          "name": "stdout",
          "output_type": "stream",
          "text": [
            "Train Loss: 0.4526 | Train Acc: 0.7751\n",
            "Valid Loss: 0.4711 | Valid Acc: 0.7574\n",
            "✔ Saved best model\n",
            "\n",
            "Epoch 85/100\n",
            "Learning Rate: 0.000005\n"
          ]
        },
        {
          "name": "stderr",
          "output_type": "stream",
          "text": [
            "Training: 100%|██████████| 301/301 [00:10<00:00, 28.96it/s]\n",
            "Validation: 100%|██████████| 54/54 [00:00<00:00, 64.28it/s]\n"
          ]
        },
        {
          "name": "stdout",
          "output_type": "stream",
          "text": [
            "Train Loss: 0.4511 | Train Acc: 0.7764\n",
            "Valid Loss: 0.4720 | Valid Acc: 0.7566\n",
            "No improvement for 1 epochs\n",
            "\n",
            "Epoch 86/100\n",
            "Learning Rate: 0.000005\n"
          ]
        },
        {
          "name": "stderr",
          "output_type": "stream",
          "text": [
            "Training: 100%|██████████| 301/301 [00:10<00:00, 28.78it/s]\n",
            "Validation: 100%|██████████| 54/54 [00:00<00:00, 70.74it/s]\n"
          ]
        },
        {
          "name": "stdout",
          "output_type": "stream",
          "text": [
            "Train Loss: 0.4495 | Train Acc: 0.7766\n",
            "Valid Loss: 0.4711 | Valid Acc: 0.7575\n",
            "✔ Saved best model\n",
            "\n",
            "Epoch 87/100\n",
            "Learning Rate: 0.000005\n"
          ]
        },
        {
          "name": "stderr",
          "output_type": "stream",
          "text": [
            "Training: 100%|██████████| 301/301 [00:10<00:00, 28.54it/s]\n",
            "Validation: 100%|██████████| 54/54 [00:00<00:00, 69.74it/s]\n"
          ]
        },
        {
          "name": "stdout",
          "output_type": "stream",
          "text": [
            "Train Loss: 0.4556 | Train Acc: 0.7724\n",
            "Valid Loss: 0.4719 | Valid Acc: 0.7568\n",
            "No improvement for 1 epochs\n",
            "\n",
            "Epoch 88/100\n",
            "Learning Rate: 0.000005\n"
          ]
        },
        {
          "name": "stderr",
          "output_type": "stream",
          "text": [
            "Training: 100%|██████████| 301/301 [00:10<00:00, 28.58it/s]\n",
            "Validation: 100%|██████████| 54/54 [00:00<00:00, 69.67it/s]\n"
          ]
        },
        {
          "name": "stdout",
          "output_type": "stream",
          "text": [
            "Train Loss: 0.4511 | Train Acc: 0.7766\n",
            "Valid Loss: 0.4719 | Valid Acc: 0.7572\n",
            "No improvement for 2 epochs\n",
            "\n",
            "Epoch 89/100\n",
            "Learning Rate: 0.000005\n"
          ]
        },
        {
          "name": "stderr",
          "output_type": "stream",
          "text": [
            "Training: 100%|██████████| 301/301 [00:10<00:00, 28.55it/s]\n",
            "Validation: 100%|██████████| 54/54 [00:00<00:00, 70.04it/s]\n"
          ]
        },
        {
          "name": "stdout",
          "output_type": "stream",
          "text": [
            "Train Loss: 0.4514 | Train Acc: 0.7758\n",
            "Valid Loss: 0.4718 | Valid Acc: 0.7560\n",
            "No improvement for 3 epochs\n",
            "\n",
            "Epoch 90/100\n",
            "Learning Rate: 0.000001\n"
          ]
        },
        {
          "name": "stderr",
          "output_type": "stream",
          "text": [
            "Training: 100%|██████████| 301/301 [00:10<00:00, 28.62it/s]\n",
            "Validation: 100%|██████████| 54/54 [00:00<00:00, 69.54it/s]\n"
          ]
        },
        {
          "name": "stdout",
          "output_type": "stream",
          "text": [
            "Train Loss: 0.4505 | Train Acc: 0.7749\n",
            "Valid Loss: 0.4715 | Valid Acc: 0.7562\n",
            "No improvement for 4 epochs\n",
            "\n",
            "Epoch 91/100\n",
            "Learning Rate: 0.000001\n"
          ]
        },
        {
          "name": "stderr",
          "output_type": "stream",
          "text": [
            "Training: 100%|██████████| 301/301 [00:10<00:00, 28.69it/s]\n",
            "Validation: 100%|██████████| 54/54 [00:00<00:00, 62.50it/s]\n"
          ]
        },
        {
          "name": "stdout",
          "output_type": "stream",
          "text": [
            "Train Loss: 0.4494 | Train Acc: 0.7770\n",
            "Valid Loss: 0.4714 | Valid Acc: 0.7566\n",
            "No improvement for 5 epochs\n",
            "Early stopping after 91 epochs\n",
            "------------------------------\n",
            "\n"
          ]
        },
        {
          "name": "stderr",
          "output_type": "stream",
          "text": [
            "Testing: 100%|██████████| 90/90 [00:01<00:00, 66.15it/s]"
          ]
        },
        {
          "name": "stdout",
          "output_type": "stream",
          "text": [
            "Test Loss: 0.4724, Test Acc: 0.7630\n"
          ]
        },
        {
          "name": "stderr",
          "output_type": "stream",
          "text": [
            "\n"
          ]
        }
      ],
      "source": [
        "history = train_model(model, train_dataloader, valid_dataloader, optimizer, criterion, scheduler, EPOCHS)\n",
        "\n",
        "# Load best model\n",
        "model.load_state_dict(torch.load('best_arabic_sentiment_model.pt'))\n",
        "\n",
        "print(f\"------------------------------\\n\")\n",
        "# Evaluate on test set\n",
        "predictions, labels = evaluate(model, test_dataloader, criterion)"
      ]
    },
    {
      "cell_type": "code",
      "execution_count": null,
      "metadata": {
        "colab": {
          "base_uri": "https://localhost:8080/",
          "height": 1000
        },
        "id": "lwHAe3CDvp4D",
        "outputId": "797c1f21-8eb3-41f9-8b1e-ca89062dd9bd"
      },
      "outputs": [
        {
          "data": {
            "image/png": "[encoded data removed]",
            "text/plain": [
              "<Figure size 1200x500 with 2 Axes>"
            ]
          },
          "metadata": {},
          "output_type": "display_data"
        },
        {
          "name": "stdout",
          "output_type": "stream",
          "text": [
            "              precision    recall  f1-score   support\n",
            "\n",
            "         0.0       0.74      0.82      0.78      5768\n",
            "         1.0       0.79      0.71      0.75      5752\n",
            "\n",
            "    accuracy                           0.76     11520\n",
            "   macro avg       0.77      0.76      0.76     11520\n",
            "weighted avg       0.77      0.76      0.76     11520\n",
            "\n"
          ]
        },
        {
          "data": {
            "image/png": "[encoded data removed]",
            "text/plain": [
              "<Figure size 800x600 with 1 Axes>"
            ]
          },
          "metadata": {},
          "output_type": "display_data"
        }
      ],
      "source": [
        "# Plot training history\n",
        "plt.figure(figsize=(12, 5))\n",
        "\n",
        "plt.subplot(1, 2, 1)\n",
        "plt.plot(history['train_loss'], label='Train Loss')\n",
        "plt.plot(history['valid_loss'], label='Validation Loss')\n",
        "plt.xlabel('Epoch')\n",
        "plt.ylabel('Loss')\n",
        "plt.legend()\n",
        "plt.title('Loss over epochs')\n",
        "\n",
        "plt.subplot(1, 2, 2)\n",
        "plt.plot(history['train_acc'], label='Train Accuracy')\n",
        "plt.plot(history['valid_acc'], label='Validation Accuracy')\n",
        "plt.xlabel('Epoch')\n",
        "plt.ylabel('Accuracy')\n",
        "plt.legend()\n",
        "plt.title('Accuracy over epochs')\n",
        "\n",
        "plt.tight_layout()\n",
        "plt.show()\n",
        "\n",
        "\n",
        "# Plot confusion matrix\n",
        "def plot_confusion_matrix(y_true, y_pred):\n",
        "    \"\"\"Plot a confusion matrix for the given true and predicted labels.\"\"\"\n",
        "    cm = confusion_matrix(y_true, y_pred)\n",
        "    plt.figure(figsize=(8, 6))\n",
        "    sns.heatmap(cm, annot=True, fmt='d', cmap='Blues', cbar=False)\n",
        "    plt.xlabel('Predicted Label')\n",
        "    plt.ylabel('True Label')\n",
        "    plt.title('Confusion Matrix')\n",
        "    plt.show()\n",
        "\n",
        "# Print classification report\n",
        "print(classification_report(labels, predictions))\n",
        "\n",
        "# Plot confusion matrix\n",
        "plot_confusion_matrix(labels, predictions)"
      ]
    },
    {
      "cell_type": "code",
      "execution_count": null,
      "metadata": {
        "colab": {
          "base_uri": "https://localhost:8080/"
        },
        "id": "7nTxGG6ZvzgN",
        "outputId": "83f465ae-fb7d-457e-f668-f08438cf7c12"
      },
      "outputs": [
        {
          "name": "stdout",
          "output_type": "stream",
          "text": [
            "Text: برنامج رائع جدا يساعد على تلبيه الاحتياجات بشكل اسرع\n",
            "Sentiment: Positive\n",
            "--------------------------------------------------\n",
            "Text: هذا الفيلم سيء للغاية\n",
            "Sentiment: Negative\n",
            "--------------------------------------------------\n"
          ]
        }
      ],
      "source": [
        "# Example of using the trained model for sentiment prediction\n",
        "def predict_sentiment(text, model, vocab):\n",
        "    model.eval()\n",
        "\n",
        "    # Clean and preprocess text\n",
        "    clean = clean_text(text)\n",
        "\n",
        "    # Convert to sequence\n",
        "    sequence = text_to_sequence(clean, vocab, MAX_LENGTH)\n",
        "\n",
        "    # Convert to tensor\n",
        "    tensor = torch.tensor(sequence).unsqueeze(0).to(device)\n",
        "\n",
        "    # Get prediction\n",
        "    with torch.no_grad():\n",
        "        prediction = torch.sigmoid(model(tensor).squeeze(1))\n",
        "\n",
        "    sentiment = \"Positive\" if prediction.item() >= 0.5 else \"Negative\"\n",
        "\n",
        "    return sentiment\n",
        "\n",
        "# Test with some examples\n",
        "example_texts = [\n",
        "    \"برنامج رائع جدا يساعد على تلبيه الاحتياجات بشكل اسرع\",\n",
        "    \"هذا الفيلم سيء للغاية\"\\\n",
        "]\n",
        "\n",
        "for text in example_texts:\n",
        "    sentiment = predict_sentiment(text, model, vocab)\n",
        "    print(f\"Text: {text}\")\n",
        "    print(f\"Sentiment: {sentiment}\")\n",
        "    print(\"-\" * 50)"
      ]
    }
  ],
  "metadata": {
    "accelerator": "GPU",
    "colab": {
      "gpuType": "T4",
      "provenance": []
    },
    "kernelspec": {
      "display_name": "deeplearning",
      "language": "python",
      "name": "python3"
    },
    "language_info": {
      "codemirror_mode": {
        "name": "ipython",
        "version": 3
      },
      "file_extension": ".py",
      "mimetype": "text/x-python",
      "name": "python",
      "nbconvert_exporter": "python",
      "pygments_lexer": "ipython3",
      "version": "3.11.5"
    }
  },
  "nbformat": 4,
  "nbformat_minor": 0
}
